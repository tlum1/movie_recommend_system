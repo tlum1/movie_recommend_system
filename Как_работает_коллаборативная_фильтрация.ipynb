{
  "nbformat": 4,
  "nbformat_minor": 0,
  "metadata": {
    "colab": {
      "provenance": [],
      "authorship_tag": "ABX9TyNvrYUKge8yVIcvSXESaiKB"
    },
    "kernelspec": {
      "name": "python3",
      "display_name": "Python 3"
    },
    "language_info": {
      "name": "python"
    }
  },
  "cells": [
    {
      "cell_type": "markdown",
      "source": [
        "# Импортирование нужных библиотек"
      ],
      "metadata": {
        "id": "eyboWVlqvq-V"
      }
    },
    {
      "cell_type": "code",
      "execution_count": 2,
      "metadata": {
        "id": "lqRKnTAiGIfi"
      },
      "outputs": [],
      "source": [
        "import pandas as pd\n",
        "import numpy as np"
      ]
    },
    {
      "cell_type": "markdown",
      "source": [
        "# Данные"
      ],
      "metadata": {
        "id": "GBrgoiciv3WQ"
      }
    },
    {
      "cell_type": "markdown",
      "source": [
        "Создадим небольшой датасет, в котором будут оценки пользователей на конкретные фильмы"
      ],
      "metadata": {
        "id": "jugrdDamv8h6"
      }
    },
    {
      "cell_type": "code",
      "source": [
        "df = pd.DataFrame({\n",
        "    \"user\": [\"Дашуля\", \"Фридман\", \"Ася\", \"Дмитрий Юрьевич\", \"Иван\", \"Дашуля\", \"Фридман\", \"Ася\", \"Дмитрий Юрьевич\", \"Иван\", \"Дашуля\", \"Ася\", \"Иван\", \"Дашуля\", \"Фридман\", \"Дмитрий Юрьевич\", \"Иван\", \"Дашуля\", \"Фридман\", \"Ася\", \"Дмитрий Юрьевич\"],\n",
        "    \"movie\": [\"Математики\",\"Математики\",\"Математики\",\"Математики\",\"Страх и ненависть на дифурах \", \"Страх и ненависть на дифурах \",\"Страх и ненависть на дифурах \",\"Страх и ненависть на дифурах \",\"Страх и ненависть на дифурах \",\"Once Upon a Applied Math\", \"Once Upon a Applied Math\",  \"Once Upon a Applied Math\", \"Функции, производные, две матрицы\",\"Функции, производные, две матрицы\",\"Функции, производные, две матрицы\",\"Функции, производные, две матрицы\",\"Не грози южному централу, решая уравнения у себя в квартале\", \"Не грози южному централу, решая уравнения у себя в квартале\",\"Не грози южному централу, решая уравнения у себя в квартале\",\"Не грози южному централу, решая уравнения у себя в квартале\", \"Не грози южному централу, решая уравнения у себя в квартале\"],\n",
        "    \"rating\": [3, 5, 5, 2, 3, 5, 3, 5, 3, 4, 2, 5, 5, 2, 4, 2, 2, 5, 3, 4, 2]\n",
        "})\n",
        "df"
      ],
      "metadata": {
        "colab": {
          "base_uri": "https://localhost:8080/",
          "height": 708
        },
        "id": "5wveqjuvGR1r",
        "outputId": "dffc6c61-9322-47de-9fab-8b7c0e1d967c"
      },
      "execution_count": 10,
      "outputs": [
        {
          "output_type": "execute_result",
          "data": {
            "text/plain": [
              "               user                                              movie  rating\n",
              "0            Дашуля                                         Математики       3\n",
              "1           Фридман                                         Математики       5\n",
              "2               Ася                                         Математики       5\n",
              "3   Дмитрий Юрьевич                                         Математики       2\n",
              "4              Иван                      Страх и ненависть на дифурах        3\n",
              "5            Дашуля                      Страх и ненависть на дифурах        5\n",
              "6           Фридман                      Страх и ненависть на дифурах        3\n",
              "7               Ася                      Страх и ненависть на дифурах        5\n",
              "8   Дмитрий Юрьевич                      Страх и ненависть на дифурах        3\n",
              "9              Иван                           Once Upon a Applied Math       4\n",
              "10           Дашуля                           Once Upon a Applied Math       2\n",
              "11              Ася                           Once Upon a Applied Math       5\n",
              "12             Иван                  Функции, производные, две матрицы       5\n",
              "13           Дашуля                  Функции, производные, две матрицы       2\n",
              "14          Фридман                  Функции, производные, две матрицы       4\n",
              "15  Дмитрий Юрьевич                  Функции, производные, две матрицы       2\n",
              "16             Иван  Не грози южному централу, решая уравнения у се...       2\n",
              "17           Дашуля  Не грози южному централу, решая уравнения у се...       5\n",
              "18          Фридман  Не грози южному централу, решая уравнения у се...       3\n",
              "19              Ася  Не грози южному централу, решая уравнения у се...       4\n",
              "20  Дмитрий Юрьевич  Не грози южному централу, решая уравнения у се...       2"
            ],
            "text/html": [
              "\n",
              "  <div id=\"df-ff12623d-198d-4280-9c81-8d294884dbff\">\n",
              "    <div class=\"colab-df-container\">\n",
              "      <div>\n",
              "<style scoped>\n",
              "    .dataframe tbody tr th:only-of-type {\n",
              "        vertical-align: middle;\n",
              "    }\n",
              "\n",
              "    .dataframe tbody tr th {\n",
              "        vertical-align: top;\n",
              "    }\n",
              "\n",
              "    .dataframe thead th {\n",
              "        text-align: right;\n",
              "    }\n",
              "</style>\n",
              "<table border=\"1\" class=\"dataframe\">\n",
              "  <thead>\n",
              "    <tr style=\"text-align: right;\">\n",
              "      <th></th>\n",
              "      <th>user</th>\n",
              "      <th>movie</th>\n",
              "      <th>rating</th>\n",
              "    </tr>\n",
              "  </thead>\n",
              "  <tbody>\n",
              "    <tr>\n",
              "      <th>0</th>\n",
              "      <td>Дашуля</td>\n",
              "      <td>Математики</td>\n",
              "      <td>3</td>\n",
              "    </tr>\n",
              "    <tr>\n",
              "      <th>1</th>\n",
              "      <td>Фридман</td>\n",
              "      <td>Математики</td>\n",
              "      <td>5</td>\n",
              "    </tr>\n",
              "    <tr>\n",
              "      <th>2</th>\n",
              "      <td>Ася</td>\n",
              "      <td>Математики</td>\n",
              "      <td>5</td>\n",
              "    </tr>\n",
              "    <tr>\n",
              "      <th>3</th>\n",
              "      <td>Дмитрий Юрьевич</td>\n",
              "      <td>Математики</td>\n",
              "      <td>2</td>\n",
              "    </tr>\n",
              "    <tr>\n",
              "      <th>4</th>\n",
              "      <td>Иван</td>\n",
              "      <td>Страх и ненависть на дифурах</td>\n",
              "      <td>3</td>\n",
              "    </tr>\n",
              "    <tr>\n",
              "      <th>5</th>\n",
              "      <td>Дашуля</td>\n",
              "      <td>Страх и ненависть на дифурах</td>\n",
              "      <td>5</td>\n",
              "    </tr>\n",
              "    <tr>\n",
              "      <th>6</th>\n",
              "      <td>Фридман</td>\n",
              "      <td>Страх и ненависть на дифурах</td>\n",
              "      <td>3</td>\n",
              "    </tr>\n",
              "    <tr>\n",
              "      <th>7</th>\n",
              "      <td>Ася</td>\n",
              "      <td>Страх и ненависть на дифурах</td>\n",
              "      <td>5</td>\n",
              "    </tr>\n",
              "    <tr>\n",
              "      <th>8</th>\n",
              "      <td>Дмитрий Юрьевич</td>\n",
              "      <td>Страх и ненависть на дифурах</td>\n",
              "      <td>3</td>\n",
              "    </tr>\n",
              "    <tr>\n",
              "      <th>9</th>\n",
              "      <td>Иван</td>\n",
              "      <td>Once Upon a Applied Math</td>\n",
              "      <td>4</td>\n",
              "    </tr>\n",
              "    <tr>\n",
              "      <th>10</th>\n",
              "      <td>Дашуля</td>\n",
              "      <td>Once Upon a Applied Math</td>\n",
              "      <td>2</td>\n",
              "    </tr>\n",
              "    <tr>\n",
              "      <th>11</th>\n",
              "      <td>Ася</td>\n",
              "      <td>Once Upon a Applied Math</td>\n",
              "      <td>5</td>\n",
              "    </tr>\n",
              "    <tr>\n",
              "      <th>12</th>\n",
              "      <td>Иван</td>\n",
              "      <td>Функции, производные, две матрицы</td>\n",
              "      <td>5</td>\n",
              "    </tr>\n",
              "    <tr>\n",
              "      <th>13</th>\n",
              "      <td>Дашуля</td>\n",
              "      <td>Функции, производные, две матрицы</td>\n",
              "      <td>2</td>\n",
              "    </tr>\n",
              "    <tr>\n",
              "      <th>14</th>\n",
              "      <td>Фридман</td>\n",
              "      <td>Функции, производные, две матрицы</td>\n",
              "      <td>4</td>\n",
              "    </tr>\n",
              "    <tr>\n",
              "      <th>15</th>\n",
              "      <td>Дмитрий Юрьевич</td>\n",
              "      <td>Функции, производные, две матрицы</td>\n",
              "      <td>2</td>\n",
              "    </tr>\n",
              "    <tr>\n",
              "      <th>16</th>\n",
              "      <td>Иван</td>\n",
              "      <td>Не грози южному централу, решая уравнения у се...</td>\n",
              "      <td>2</td>\n",
              "    </tr>\n",
              "    <tr>\n",
              "      <th>17</th>\n",
              "      <td>Дашуля</td>\n",
              "      <td>Не грози южному централу, решая уравнения у се...</td>\n",
              "      <td>5</td>\n",
              "    </tr>\n",
              "    <tr>\n",
              "      <th>18</th>\n",
              "      <td>Фридман</td>\n",
              "      <td>Не грози южному централу, решая уравнения у се...</td>\n",
              "      <td>3</td>\n",
              "    </tr>\n",
              "    <tr>\n",
              "      <th>19</th>\n",
              "      <td>Ася</td>\n",
              "      <td>Не грози южному централу, решая уравнения у се...</td>\n",
              "      <td>4</td>\n",
              "    </tr>\n",
              "    <tr>\n",
              "      <th>20</th>\n",
              "      <td>Дмитрий Юрьевич</td>\n",
              "      <td>Не грози южному централу, решая уравнения у се...</td>\n",
              "      <td>2</td>\n",
              "    </tr>\n",
              "  </tbody>\n",
              "</table>\n",
              "</div>\n",
              "      <button class=\"colab-df-convert\" onclick=\"convertToInteractive('df-ff12623d-198d-4280-9c81-8d294884dbff')\"\n",
              "              title=\"Convert this dataframe to an interactive table.\"\n",
              "              style=\"display:none;\">\n",
              "        \n",
              "  <svg xmlns=\"http://www.w3.org/2000/svg\" height=\"24px\"viewBox=\"0 0 24 24\"\n",
              "       width=\"24px\">\n",
              "    <path d=\"M0 0h24v24H0V0z\" fill=\"none\"/>\n",
              "    <path d=\"M18.56 5.44l.94 2.06.94-2.06 2.06-.94-2.06-.94-.94-2.06-.94 2.06-2.06.94zm-11 1L8.5 8.5l.94-2.06 2.06-.94-2.06-.94L8.5 2.5l-.94 2.06-2.06.94zm10 10l.94 2.06.94-2.06 2.06-.94-2.06-.94-.94-2.06-.94 2.06-2.06.94z\"/><path d=\"M17.41 7.96l-1.37-1.37c-.4-.4-.92-.59-1.43-.59-.52 0-1.04.2-1.43.59L10.3 9.45l-7.72 7.72c-.78.78-.78 2.05 0 2.83L4 21.41c.39.39.9.59 1.41.59.51 0 1.02-.2 1.41-.59l7.78-7.78 2.81-2.81c.8-.78.8-2.07 0-2.86zM5.41 20L4 18.59l7.72-7.72 1.47 1.35L5.41 20z\"/>\n",
              "  </svg>\n",
              "      </button>\n",
              "      \n",
              "  <style>\n",
              "    .colab-df-container {\n",
              "      display:flex;\n",
              "      flex-wrap:wrap;\n",
              "      gap: 12px;\n",
              "    }\n",
              "\n",
              "    .colab-df-convert {\n",
              "      background-color: #E8F0FE;\n",
              "      border: none;\n",
              "      border-radius: 50%;\n",
              "      cursor: pointer;\n",
              "      display: none;\n",
              "      fill: #1967D2;\n",
              "      height: 32px;\n",
              "      padding: 0 0 0 0;\n",
              "      width: 32px;\n",
              "    }\n",
              "\n",
              "    .colab-df-convert:hover {\n",
              "      background-color: #E2EBFA;\n",
              "      box-shadow: 0px 1px 2px rgba(60, 64, 67, 0.3), 0px 1px 3px 1px rgba(60, 64, 67, 0.15);\n",
              "      fill: #174EA6;\n",
              "    }\n",
              "\n",
              "    [theme=dark] .colab-df-convert {\n",
              "      background-color: #3B4455;\n",
              "      fill: #D2E3FC;\n",
              "    }\n",
              "\n",
              "    [theme=dark] .colab-df-convert:hover {\n",
              "      background-color: #434B5C;\n",
              "      box-shadow: 0px 1px 3px 1px rgba(0, 0, 0, 0.15);\n",
              "      filter: drop-shadow(0px 1px 2px rgba(0, 0, 0, 0.3));\n",
              "      fill: #FFFFFF;\n",
              "    }\n",
              "  </style>\n",
              "\n",
              "      <script>\n",
              "        const buttonEl =\n",
              "          document.querySelector('#df-ff12623d-198d-4280-9c81-8d294884dbff button.colab-df-convert');\n",
              "        buttonEl.style.display =\n",
              "          google.colab.kernel.accessAllowed ? 'block' : 'none';\n",
              "\n",
              "        async function convertToInteractive(key) {\n",
              "          const element = document.querySelector('#df-ff12623d-198d-4280-9c81-8d294884dbff');\n",
              "          const dataTable =\n",
              "            await google.colab.kernel.invokeFunction('convertToInteractive',\n",
              "                                                     [key], {});\n",
              "          if (!dataTable) return;\n",
              "\n",
              "          const docLinkHtml = 'Like what you see? Visit the ' +\n",
              "            '<a target=\"_blank\" href=https://colab.research.google.com/notebooks/data_table.ipynb>data table notebook</a>'\n",
              "            + ' to learn more about interactive tables.';\n",
              "          element.innerHTML = '';\n",
              "          dataTable['output_type'] = 'display_data';\n",
              "          await google.colab.output.renderOutput(dataTable, element);\n",
              "          const docLink = document.createElement('div');\n",
              "          docLink.innerHTML = docLinkHtml;\n",
              "          element.appendChild(docLink);\n",
              "        }\n",
              "      </script>\n",
              "    </div>\n",
              "  </div>\n",
              "  "
            ]
          },
          "metadata": {},
          "execution_count": 10
        }
      ]
    },
    {
      "cell_type": "markdown",
      "source": [
        "Построим **матрицу смежности** для оценок пользователей"
      ],
      "metadata": {
        "id": "5-hvT3VFwC9b"
      }
    },
    {
      "cell_type": "code",
      "source": [
        "interact_matrix = pd.pivot_table(df, index=\"user\", columns=\"movie\", values=\"rating\")\n",
        "source_interact_matrix = interact_matrix.copy()\n",
        "interact_matrix"
      ],
      "metadata": {
        "id": "dQYxgOVXGrtN",
        "colab": {
          "base_uri": "https://localhost:8080/",
          "height": 316
        },
        "outputId": "3721d263-094c-4181-d93d-472531a591ad"
      },
      "execution_count": 11,
      "outputs": [
        {
          "output_type": "execute_result",
          "data": {
            "text/plain": [
              "movie            Once Upon a Applied Math  Математики  \\\n",
              "user                                                    \n",
              "Ася                                   5.0         5.0   \n",
              "Дашуля                                2.0         3.0   \n",
              "Дмитрий Юрьевич                       NaN         2.0   \n",
              "Иван                                  4.0         NaN   \n",
              "Фридман                               NaN         5.0   \n",
              "\n",
              "movie            Не грози южному централу, решая уравнения у себя в квартале  \\\n",
              "user                                                                           \n",
              "Ася                                                            4.0             \n",
              "Дашуля                                                         5.0             \n",
              "Дмитрий Юрьевич                                                2.0             \n",
              "Иван                                                           2.0             \n",
              "Фридман                                                        3.0             \n",
              "\n",
              "movie            Страх и ненависть на дифурах   \\\n",
              "user                                             \n",
              "Ася                                        5.0   \n",
              "Дашуля                                     5.0   \n",
              "Дмитрий Юрьевич                            3.0   \n",
              "Иван                                       3.0   \n",
              "Фридман                                    3.0   \n",
              "\n",
              "movie            Функции, производные, две матрицы  \n",
              "user                                                \n",
              "Ася                                            NaN  \n",
              "Дашуля                                         2.0  \n",
              "Дмитрий Юрьевич                                2.0  \n",
              "Иван                                           5.0  \n",
              "Фридман                                        4.0  "
            ],
            "text/html": [
              "\n",
              "  <div id=\"df-81e4a59d-a800-4eeb-8189-e33c67165082\">\n",
              "    <div class=\"colab-df-container\">\n",
              "      <div>\n",
              "<style scoped>\n",
              "    .dataframe tbody tr th:only-of-type {\n",
              "        vertical-align: middle;\n",
              "    }\n",
              "\n",
              "    .dataframe tbody tr th {\n",
              "        vertical-align: top;\n",
              "    }\n",
              "\n",
              "    .dataframe thead th {\n",
              "        text-align: right;\n",
              "    }\n",
              "</style>\n",
              "<table border=\"1\" class=\"dataframe\">\n",
              "  <thead>\n",
              "    <tr style=\"text-align: right;\">\n",
              "      <th>movie</th>\n",
              "      <th>Once Upon a Applied Math</th>\n",
              "      <th>Математики</th>\n",
              "      <th>Не грози южному централу, решая уравнения у себя в квартале</th>\n",
              "      <th>Страх и ненависть на дифурах</th>\n",
              "      <th>Функции, производные, две матрицы</th>\n",
              "    </tr>\n",
              "    <tr>\n",
              "      <th>user</th>\n",
              "      <th></th>\n",
              "      <th></th>\n",
              "      <th></th>\n",
              "      <th></th>\n",
              "      <th></th>\n",
              "    </tr>\n",
              "  </thead>\n",
              "  <tbody>\n",
              "    <tr>\n",
              "      <th>Ася</th>\n",
              "      <td>5.0</td>\n",
              "      <td>5.0</td>\n",
              "      <td>4.0</td>\n",
              "      <td>5.0</td>\n",
              "      <td>NaN</td>\n",
              "    </tr>\n",
              "    <tr>\n",
              "      <th>Дашуля</th>\n",
              "      <td>2.0</td>\n",
              "      <td>3.0</td>\n",
              "      <td>5.0</td>\n",
              "      <td>5.0</td>\n",
              "      <td>2.0</td>\n",
              "    </tr>\n",
              "    <tr>\n",
              "      <th>Дмитрий Юрьевич</th>\n",
              "      <td>NaN</td>\n",
              "      <td>2.0</td>\n",
              "      <td>2.0</td>\n",
              "      <td>3.0</td>\n",
              "      <td>2.0</td>\n",
              "    </tr>\n",
              "    <tr>\n",
              "      <th>Иван</th>\n",
              "      <td>4.0</td>\n",
              "      <td>NaN</td>\n",
              "      <td>2.0</td>\n",
              "      <td>3.0</td>\n",
              "      <td>5.0</td>\n",
              "    </tr>\n",
              "    <tr>\n",
              "      <th>Фридман</th>\n",
              "      <td>NaN</td>\n",
              "      <td>5.0</td>\n",
              "      <td>3.0</td>\n",
              "      <td>3.0</td>\n",
              "      <td>4.0</td>\n",
              "    </tr>\n",
              "  </tbody>\n",
              "</table>\n",
              "</div>\n",
              "      <button class=\"colab-df-convert\" onclick=\"convertToInteractive('df-81e4a59d-a800-4eeb-8189-e33c67165082')\"\n",
              "              title=\"Convert this dataframe to an interactive table.\"\n",
              "              style=\"display:none;\">\n",
              "        \n",
              "  <svg xmlns=\"http://www.w3.org/2000/svg\" height=\"24px\"viewBox=\"0 0 24 24\"\n",
              "       width=\"24px\">\n",
              "    <path d=\"M0 0h24v24H0V0z\" fill=\"none\"/>\n",
              "    <path d=\"M18.56 5.44l.94 2.06.94-2.06 2.06-.94-2.06-.94-.94-2.06-.94 2.06-2.06.94zm-11 1L8.5 8.5l.94-2.06 2.06-.94-2.06-.94L8.5 2.5l-.94 2.06-2.06.94zm10 10l.94 2.06.94-2.06 2.06-.94-2.06-.94-.94-2.06-.94 2.06-2.06.94z\"/><path d=\"M17.41 7.96l-1.37-1.37c-.4-.4-.92-.59-1.43-.59-.52 0-1.04.2-1.43.59L10.3 9.45l-7.72 7.72c-.78.78-.78 2.05 0 2.83L4 21.41c.39.39.9.59 1.41.59.51 0 1.02-.2 1.41-.59l7.78-7.78 2.81-2.81c.8-.78.8-2.07 0-2.86zM5.41 20L4 18.59l7.72-7.72 1.47 1.35L5.41 20z\"/>\n",
              "  </svg>\n",
              "      </button>\n",
              "      \n",
              "  <style>\n",
              "    .colab-df-container {\n",
              "      display:flex;\n",
              "      flex-wrap:wrap;\n",
              "      gap: 12px;\n",
              "    }\n",
              "\n",
              "    .colab-df-convert {\n",
              "      background-color: #E8F0FE;\n",
              "      border: none;\n",
              "      border-radius: 50%;\n",
              "      cursor: pointer;\n",
              "      display: none;\n",
              "      fill: #1967D2;\n",
              "      height: 32px;\n",
              "      padding: 0 0 0 0;\n",
              "      width: 32px;\n",
              "    }\n",
              "\n",
              "    .colab-df-convert:hover {\n",
              "      background-color: #E2EBFA;\n",
              "      box-shadow: 0px 1px 2px rgba(60, 64, 67, 0.3), 0px 1px 3px 1px rgba(60, 64, 67, 0.15);\n",
              "      fill: #174EA6;\n",
              "    }\n",
              "\n",
              "    [theme=dark] .colab-df-convert {\n",
              "      background-color: #3B4455;\n",
              "      fill: #D2E3FC;\n",
              "    }\n",
              "\n",
              "    [theme=dark] .colab-df-convert:hover {\n",
              "      background-color: #434B5C;\n",
              "      box-shadow: 0px 1px 3px 1px rgba(0, 0, 0, 0.15);\n",
              "      filter: drop-shadow(0px 1px 2px rgba(0, 0, 0, 0.3));\n",
              "      fill: #FFFFFF;\n",
              "    }\n",
              "  </style>\n",
              "\n",
              "      <script>\n",
              "        const buttonEl =\n",
              "          document.querySelector('#df-81e4a59d-a800-4eeb-8189-e33c67165082 button.colab-df-convert');\n",
              "        buttonEl.style.display =\n",
              "          google.colab.kernel.accessAllowed ? 'block' : 'none';\n",
              "\n",
              "        async function convertToInteractive(key) {\n",
              "          const element = document.querySelector('#df-81e4a59d-a800-4eeb-8189-e33c67165082');\n",
              "          const dataTable =\n",
              "            await google.colab.kernel.invokeFunction('convertToInteractive',\n",
              "                                                     [key], {});\n",
              "          if (!dataTable) return;\n",
              "\n",
              "          const docLinkHtml = 'Like what you see? Visit the ' +\n",
              "            '<a target=\"_blank\" href=https://colab.research.google.com/notebooks/data_table.ipynb>data table notebook</a>'\n",
              "            + ' to learn more about interactive tables.';\n",
              "          element.innerHTML = '';\n",
              "          dataTable['output_type'] = 'display_data';\n",
              "          await google.colab.output.renderOutput(dataTable, element);\n",
              "          const docLink = document.createElement('div');\n",
              "          docLink.innerHTML = docLinkHtml;\n",
              "          element.appendChild(docLink);\n",
              "        }\n",
              "      </script>\n",
              "    </div>\n",
              "  </div>\n",
              "  "
            ]
          },
          "metadata": {},
          "execution_count": 11
        }
      ]
    },
    {
      "cell_type": "markdown",
      "source": [
        "Обнулим среднуюю оценку для каждого польщователя\n",
        "Так как каждый пользователь оценивает фильмы *по-своему*, то некоторые оценки могут быть информативны, а некоторые нет. Например, для пользователя, который ставит оценки ``8-10`` почти всем фильмам высокие оценки не информативны, в отличие от низких  ``0-4``"
      ],
      "metadata": {
        "id": "5VL4GdeRwJkU"
      }
    },
    {
      "cell_type": "code",
      "source": [
        "for i in range(len(interact_matrix)):\n",
        "    interact_matrix.iloc[i] -= interact_matrix.iloc[i].mean()\n",
        "interact_matrix.fillna(0, inplace=True)\n",
        "interact_matrix"
      ],
      "metadata": {
        "colab": {
          "base_uri": "https://localhost:8080/",
          "height": 316
        },
        "id": "Vz7CFMPwK0Cl",
        "outputId": "de1e181b-b4d5-40b5-e337-0c6ad0873770"
      },
      "execution_count": 12,
      "outputs": [
        {
          "output_type": "execute_result",
          "data": {
            "text/plain": [
              "movie            Once Upon a Applied Math  Математики  \\\n",
              "user                                                    \n",
              "Ася                                  0.25        0.25   \n",
              "Дашуля                              -1.40       -0.40   \n",
              "Дмитрий Юрьевич                      0.00       -0.25   \n",
              "Иван                                 0.50        0.00   \n",
              "Фридман                              0.00        1.25   \n",
              "\n",
              "movie            Не грози южному централу, решая уравнения у себя в квартале  \\\n",
              "user                                                                           \n",
              "Ася                                                          -0.75             \n",
              "Дашуля                                                        1.60             \n",
              "Дмитрий Юрьевич                                              -0.25             \n",
              "Иван                                                         -1.50             \n",
              "Фридман                                                      -0.75             \n",
              "\n",
              "movie            Страх и ненависть на дифурах   \\\n",
              "user                                             \n",
              "Ася                                       0.25   \n",
              "Дашуля                                    1.60   \n",
              "Дмитрий Юрьевич                           0.75   \n",
              "Иван                                     -0.50   \n",
              "Фридман                                  -0.75   \n",
              "\n",
              "movie            Функции, производные, две матрицы  \n",
              "user                                                \n",
              "Ася                                           0.00  \n",
              "Дашуля                                       -1.40  \n",
              "Дмитрий Юрьевич                              -0.25  \n",
              "Иван                                          1.50  \n",
              "Фридман                                       0.25  "
            ],
            "text/html": [
              "\n",
              "  <div id=\"df-faefa0e2-1295-4c88-8cbb-8edebc2360cc\">\n",
              "    <div class=\"colab-df-container\">\n",
              "      <div>\n",
              "<style scoped>\n",
              "    .dataframe tbody tr th:only-of-type {\n",
              "        vertical-align: middle;\n",
              "    }\n",
              "\n",
              "    .dataframe tbody tr th {\n",
              "        vertical-align: top;\n",
              "    }\n",
              "\n",
              "    .dataframe thead th {\n",
              "        text-align: right;\n",
              "    }\n",
              "</style>\n",
              "<table border=\"1\" class=\"dataframe\">\n",
              "  <thead>\n",
              "    <tr style=\"text-align: right;\">\n",
              "      <th>movie</th>\n",
              "      <th>Once Upon a Applied Math</th>\n",
              "      <th>Математики</th>\n",
              "      <th>Не грози южному централу, решая уравнения у себя в квартале</th>\n",
              "      <th>Страх и ненависть на дифурах</th>\n",
              "      <th>Функции, производные, две матрицы</th>\n",
              "    </tr>\n",
              "    <tr>\n",
              "      <th>user</th>\n",
              "      <th></th>\n",
              "      <th></th>\n",
              "      <th></th>\n",
              "      <th></th>\n",
              "      <th></th>\n",
              "    </tr>\n",
              "  </thead>\n",
              "  <tbody>\n",
              "    <tr>\n",
              "      <th>Ася</th>\n",
              "      <td>0.25</td>\n",
              "      <td>0.25</td>\n",
              "      <td>-0.75</td>\n",
              "      <td>0.25</td>\n",
              "      <td>0.00</td>\n",
              "    </tr>\n",
              "    <tr>\n",
              "      <th>Дашуля</th>\n",
              "      <td>-1.40</td>\n",
              "      <td>-0.40</td>\n",
              "      <td>1.60</td>\n",
              "      <td>1.60</td>\n",
              "      <td>-1.40</td>\n",
              "    </tr>\n",
              "    <tr>\n",
              "      <th>Дмитрий Юрьевич</th>\n",
              "      <td>0.00</td>\n",
              "      <td>-0.25</td>\n",
              "      <td>-0.25</td>\n",
              "      <td>0.75</td>\n",
              "      <td>-0.25</td>\n",
              "    </tr>\n",
              "    <tr>\n",
              "      <th>Иван</th>\n",
              "      <td>0.50</td>\n",
              "      <td>0.00</td>\n",
              "      <td>-1.50</td>\n",
              "      <td>-0.50</td>\n",
              "      <td>1.50</td>\n",
              "    </tr>\n",
              "    <tr>\n",
              "      <th>Фридман</th>\n",
              "      <td>0.00</td>\n",
              "      <td>1.25</td>\n",
              "      <td>-0.75</td>\n",
              "      <td>-0.75</td>\n",
              "      <td>0.25</td>\n",
              "    </tr>\n",
              "  </tbody>\n",
              "</table>\n",
              "</div>\n",
              "      <button class=\"colab-df-convert\" onclick=\"convertToInteractive('df-faefa0e2-1295-4c88-8cbb-8edebc2360cc')\"\n",
              "              title=\"Convert this dataframe to an interactive table.\"\n",
              "              style=\"display:none;\">\n",
              "        \n",
              "  <svg xmlns=\"http://www.w3.org/2000/svg\" height=\"24px\"viewBox=\"0 0 24 24\"\n",
              "       width=\"24px\">\n",
              "    <path d=\"M0 0h24v24H0V0z\" fill=\"none\"/>\n",
              "    <path d=\"M18.56 5.44l.94 2.06.94-2.06 2.06-.94-2.06-.94-.94-2.06-.94 2.06-2.06.94zm-11 1L8.5 8.5l.94-2.06 2.06-.94-2.06-.94L8.5 2.5l-.94 2.06-2.06.94zm10 10l.94 2.06.94-2.06 2.06-.94-2.06-.94-.94-2.06-.94 2.06-2.06.94z\"/><path d=\"M17.41 7.96l-1.37-1.37c-.4-.4-.92-.59-1.43-.59-.52 0-1.04.2-1.43.59L10.3 9.45l-7.72 7.72c-.78.78-.78 2.05 0 2.83L4 21.41c.39.39.9.59 1.41.59.51 0 1.02-.2 1.41-.59l7.78-7.78 2.81-2.81c.8-.78.8-2.07 0-2.86zM5.41 20L4 18.59l7.72-7.72 1.47 1.35L5.41 20z\"/>\n",
              "  </svg>\n",
              "      </button>\n",
              "      \n",
              "  <style>\n",
              "    .colab-df-container {\n",
              "      display:flex;\n",
              "      flex-wrap:wrap;\n",
              "      gap: 12px;\n",
              "    }\n",
              "\n",
              "    .colab-df-convert {\n",
              "      background-color: #E8F0FE;\n",
              "      border: none;\n",
              "      border-radius: 50%;\n",
              "      cursor: pointer;\n",
              "      display: none;\n",
              "      fill: #1967D2;\n",
              "      height: 32px;\n",
              "      padding: 0 0 0 0;\n",
              "      width: 32px;\n",
              "    }\n",
              "\n",
              "    .colab-df-convert:hover {\n",
              "      background-color: #E2EBFA;\n",
              "      box-shadow: 0px 1px 2px rgba(60, 64, 67, 0.3), 0px 1px 3px 1px rgba(60, 64, 67, 0.15);\n",
              "      fill: #174EA6;\n",
              "    }\n",
              "\n",
              "    [theme=dark] .colab-df-convert {\n",
              "      background-color: #3B4455;\n",
              "      fill: #D2E3FC;\n",
              "    }\n",
              "\n",
              "    [theme=dark] .colab-df-convert:hover {\n",
              "      background-color: #434B5C;\n",
              "      box-shadow: 0px 1px 3px 1px rgba(0, 0, 0, 0.15);\n",
              "      filter: drop-shadow(0px 1px 2px rgba(0, 0, 0, 0.3));\n",
              "      fill: #FFFFFF;\n",
              "    }\n",
              "  </style>\n",
              "\n",
              "      <script>\n",
              "        const buttonEl =\n",
              "          document.querySelector('#df-faefa0e2-1295-4c88-8cbb-8edebc2360cc button.colab-df-convert');\n",
              "        buttonEl.style.display =\n",
              "          google.colab.kernel.accessAllowed ? 'block' : 'none';\n",
              "\n",
              "        async function convertToInteractive(key) {\n",
              "          const element = document.querySelector('#df-faefa0e2-1295-4c88-8cbb-8edebc2360cc');\n",
              "          const dataTable =\n",
              "            await google.colab.kernel.invokeFunction('convertToInteractive',\n",
              "                                                     [key], {});\n",
              "          if (!dataTable) return;\n",
              "\n",
              "          const docLinkHtml = 'Like what you see? Visit the ' +\n",
              "            '<a target=\"_blank\" href=https://colab.research.google.com/notebooks/data_table.ipynb>data table notebook</a>'\n",
              "            + ' to learn more about interactive tables.';\n",
              "          element.innerHTML = '';\n",
              "          dataTable['output_type'] = 'display_data';\n",
              "          await google.colab.output.renderOutput(dataTable, element);\n",
              "          const docLink = document.createElement('div');\n",
              "          docLink.innerHTML = docLinkHtml;\n",
              "          element.appendChild(docLink);\n",
              "        }\n",
              "      </script>\n",
              "    </div>\n",
              "  </div>\n",
              "  "
            ]
          },
          "metadata": {},
          "execution_count": 12
        }
      ]
    },
    {
      "cell_type": "markdown",
      "source": [
        "Создадим словарь, где ключем будет индекс столбца фильма, а значением его название"
      ],
      "metadata": {
        "id": "3ETyYFON2fvN"
      }
    },
    {
      "cell_type": "code",
      "source": [
        "columns = source_interact_matrix.columns\n",
        "id_to_movie = {i: columns[i] for i in range(len(columns))}\n",
        "id_to_movie"
      ],
      "metadata": {
        "colab": {
          "base_uri": "https://localhost:8080/"
        },
        "id": "KsU8tRWi2fHa",
        "outputId": "9e2714ed-c091-4bca-c42f-84b393d2fa9c"
      },
      "execution_count": 13,
      "outputs": [
        {
          "output_type": "execute_result",
          "data": {
            "text/plain": [
              "{0: 'Once Upon a Applied Math',\n",
              " 1: 'Математики',\n",
              " 2: 'Не грози южному централу, решая уравнения у себя в квартале',\n",
              " 3: 'Страх и ненависть на дифурах ',\n",
              " 4: 'Функции, производные, две матрицы'}"
            ]
          },
          "metadata": {},
          "execution_count": 13
        }
      ]
    },
    {
      "cell_type": "markdown",
      "source": [
        "# Построим модель колаборативной фильтрации"
      ],
      "metadata": {
        "id": "LLfJpb6Jwn0L"
      }
    },
    {
      "cell_type": "markdown",
      "source": [
        "Импортируем метрику схожести объектов, в данном случае будем просто считать косинус угла между векторами, тем самым чем ближе косинус угла между векторами к **единице**, тем больше они похожи"
      ],
      "metadata": {
        "id": "PRjca0GhwvHR"
      }
    },
    {
      "cell_type": "code",
      "source": [
        "from sklearn.metrics.pairwise import cosine_similarity"
      ],
      "metadata": {
        "id": "p5_dwRRgIduT"
      },
      "execution_count": 14,
      "outputs": []
    },
    {
      "cell_type": "markdown",
      "source": [
        "Попробуем предсказать оценку **Ивана** на фильм **Математики**\n",
        "\n",
        "Все пропущенные значения заменим на среднюю оценку **Ивана**"
      ],
      "metadata": {
        "id": "gntbvpu2zkSc"
      }
    },
    {
      "cell_type": "code",
      "source": [
        "ivan_ratings = source_interact_matrix.loc[\"Иван\"].values\n",
        "ivan_ratings[np.isnan(ivan_ratings)] = np.nanmean(ivan_ratings)\n",
        "ivan_ratings"
      ],
      "metadata": {
        "id": "E-JVsfspM6Qm",
        "colab": {
          "base_uri": "https://localhost:8080/"
        },
        "outputId": "b29c5725-de8d-487f-f21e-cb4c944a696e"
      },
      "execution_count": null,
      "outputs": [
        {
          "output_type": "execute_result",
          "data": {
            "text/plain": [
              "array([4. , 3.5, 2. , 3. , 5. ])"
            ]
          },
          "metadata": {},
          "execution_count": 16
        }
      ]
    },
    {
      "cell_type": "markdown",
      "source": [
        "## user-based фильтрация"
      ],
      "metadata": {
        "id": "YgNKuEirw9g-"
      }
    },
    {
      "cell_type": "markdown",
      "source": [
        "Построим матрицу схожести каждого пользователя с каждым"
      ],
      "metadata": {
        "id": "yUjBrJkwxFNR"
      }
    },
    {
      "cell_type": "code",
      "source": [
        "user_based_sim = cosine_similarity(interact_matrix)\n",
        "np.fill_diagonal(user_based_sim, 0)\n",
        "user_based_sim"
      ],
      "metadata": {
        "colab": {
          "base_uri": "https://localhost:8080/"
        },
        "id": "Y6vQFyB5KexJ",
        "outputId": "72ab83cf-5432-4955-c168-c243b641ae78"
      },
      "execution_count": 18,
      "outputs": [
        {
          "output_type": "execute_result",
          "data": {
            "text/plain": [
              "array([[ 0.        , -0.47586687,  0.41666667,  0.5809475 ,  0.47871355],\n",
              "       [-0.47586687,  0.        ,  0.47586687, -0.88465174, -0.64613475],\n",
              "       [ 0.41666667,  0.47586687,  0.        , -0.19364917, -0.52223297],\n",
              "       [ 0.5809475 , -0.88465174, -0.19364917,  0.        ,  0.5056499 ],\n",
              "       [ 0.47871355, -0.64613475, -0.52223297,  0.5056499 ,  0.        ]])"
            ]
          },
          "metadata": {},
          "execution_count": 18
        }
      ]
    },
    {
      "cell_type": "markdown",
      "source": [
        "**Как происходит оценка оценка рейтинга для фильму?**\n",
        "\n",
        "Простой и логичный подход – приблизить новый рейтинг как средний рейтинг данного пользователя плюс отклонения от среднего рейтингов других пользователей, взвешенных этими самыми весами\n",
        "\n",
        "$$r_{i, a} = \\overline{r_i} + \\frac{∑(r_{j, a} - \\overline{r_j})*w_{i, j}}{∑|w_{i, j}|}$$\n",
        "\n",
        "$\\overline{r_i}$ - средний рейтинг пользователя\n",
        "\n",
        "$w_{i, j}$ - \"похожесть\" между полльзователями"
      ],
      "metadata": {
        "id": "L4FQZi5M7YS-"
      }
    },
    {
      "cell_type": "markdown",
      "source": [
        "Возьмем строку из ``user_based_sim``, где рассчитаны соседи **Ивана**"
      ],
      "metadata": {
        "id": "PWSYiLiF8E9x"
      }
    },
    {
      "cell_type": "code",
      "source": [
        "ivan_sim = user_based_sim[3]"
      ],
      "metadata": {
        "id": "lWBABsyY8Esc"
      },
      "execution_count": 20,
      "outputs": []
    },
    {
      "cell_type": "code",
      "source": [
        "pred = ivan_ratings.mean() + interact_matrix.T.dot(ivan_sim) / abs(ivan_sim).sum()\n",
        "for movie, rating in pred.items():\n",
        "    print(f\"Фильм: {movie},\\nПредсказанная оценка: {rating}\")"
      ],
      "metadata": {
        "colab": {
          "base_uri": "https://localhost:8080/"
        },
        "outputId": "fddc2461-f3d7-4ce9-82d3-a79285b5a457",
        "id": "4QLbLaaK7YTA"
      },
      "execution_count": 23,
      "outputs": [
        {
          "output_type": "stream",
          "name": "stdout",
          "text": [
            "Фильм: Once Upon a Applied Math,\n",
            "Предсказанная оценка: 4.139175200633995\n",
            "Фильм: Математики,\n",
            "Предсказанная оценка: 4.044862653131029\n",
            "Фильм: Не грози южному централу, решая уравнения у себя в квартале,\n",
            "Предсказанная оценка: 2.4921103761311945\n",
            "Фильм: Страх и ненависть на дифурах ,\n",
            "Предсказанная оценка: 2.6710094653312604\n",
            "Фильм: Функции, производные, две матрицы,\n",
            "Предсказанная оценка: 4.152842304772522\n"
          ]
        }
      ]
    },
    {
      "cell_type": "markdown",
      "source": [
        "Таким образом мы видим, что **Иван** поставит фильму **Математики** оценку ``4``"
      ],
      "metadata": {
        "id": "dZBuj8s59DlT"
      }
    },
    {
      "cell_type": "markdown",
      "source": [
        "## item-based фильтрация"
      ],
      "metadata": {
        "id": "dS60eBjCxBCD"
      }
    },
    {
      "cell_type": "markdown",
      "source": [
        "Построим матрицу схожести каждого фильма с каждым"
      ],
      "metadata": {
        "id": "9BjsvJC1xKoZ"
      }
    },
    {
      "cell_type": "code",
      "source": [
        "item_based_sim = cosine_similarity(interact_matrix.transpose())\n",
        "np.fill_diagonal(item_based_sim, 0)\n",
        "item_based_sim"
      ],
      "metadata": {
        "id": "84JEYbyRKna0",
        "colab": {
          "base_uri": "https://localhost:8080/"
        },
        "outputId": "01165aa5-733c-4095-f06d-4664f426eabc"
      },
      "execution_count": 15,
      "outputs": [
        {
          "output_type": "execute_result",
          "data": {
            "text/plain": [
              "array([[ 0.        ,  0.30380519, -0.86069342, -0.80540265,  0.86342137],\n",
              "       [ 0.30380519,  0.        , -0.51145776, -0.62647055,  0.33038843],\n",
              "       [-0.86069342, -0.51145776,  0.        ,  0.71429623, -0.90509054],\n",
              "       [-0.80540265, -0.62647055,  0.71429623,  0.        , -0.80834412],\n",
              "       [ 0.86342137,  0.33038843, -0.90509054, -0.80834412,  0.        ]])"
            ]
          },
          "metadata": {},
          "execution_count": 15
        }
      ]
    },
    {
      "cell_type": "markdown",
      "source": [
        "**Теперь займемся предсказаниями оценок**\n",
        "\n",
        "Чтобы предсказывать оценку пользователя на конретный фильм можем воспользоваться формулой\n",
        "\n",
        "$r_i = \\overline{r_i} + \\frac{\\sum(r_b - \\overline{r_i})*w_{ab}}{∑|w_{ab}|}$\n",
        "\n",
        "$\\overline{r_i}$ - средний рейтинг пользователя\n",
        "\n",
        "$w_{ab}$ - \"похожесть\" между объектами\n",
        "\n",
        "Таким образом, из этой формулы ясно, что достаточно умножить матрицу ``item-item`` на вектор оценок польователя, где все пропущенные значения заменены средней оценкой пользователя"
      ],
      "metadata": {
        "id": "vXF0Fx4OxO6P"
      }
    },
    {
      "cell_type": "code",
      "source": [
        "pred = ivan_ratings.mean() + (item_based_sim.dot(ivan_ratings - ivan_ratings.mean()) / abs(item_based_sim).sum(axis=1))\n",
        "for i in range(len(pred)):\n",
        "    print(f\"Фильм: {id_to_movie[i]},\\nПредсказанная оценка: {pred[i]}\")"
      ],
      "metadata": {
        "id": "QSux4ouANJhU",
        "colab": {
          "base_uri": "https://localhost:8080/"
        },
        "outputId": "5a396965-4f2c-4d17-885d-ae5247ec8185"
      },
      "execution_count": 17,
      "outputs": [
        {
          "output_type": "stream",
          "name": "stdout",
          "text": [
            "Фильм: Once Upon a Applied Math,\n",
            "Предсказанная оценка: 4.55490051869921\n",
            "Фильм: Математики,\n",
            "Предсказанная оценка: 4.475049812455768\n",
            "Фильм: Не грози южному централу, решая уравнения у себя в квартале,\n",
            "Предсказанная оценка: 2.7829338375767456\n",
            "Фильм: Страх и ненависть на дифурах ,\n",
            "Предсказанная оценка: 2.5906584789819083\n",
            "Фильм: Функции, производные, две матрицы,\n",
            "Предсказанная оценка: 4.2545008969816775\n"
          ]
        }
      ]
    },
    {
      "cell_type": "markdown",
      "source": [
        "Таким образом мы видим, что **Иван** поставит фильму **Математики** оценку ``4.4``"
      ],
      "metadata": {
        "id": "D2OxshuE65o0"
      }
    }
  ]
}