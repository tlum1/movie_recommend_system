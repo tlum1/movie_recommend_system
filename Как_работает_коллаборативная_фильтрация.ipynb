{
  "nbformat": 4,
  "nbformat_minor": 0,
  "metadata": {
    "colab": {
      "provenance": [],
      "authorship_tag": "ABX9TyMV3Tqy+JrwE/gR7HcU8qyJ",
      "include_colab_link": true
    },
    "kernelspec": {
      "name": "python3",
      "display_name": "Python 3"
    },
    "language_info": {
      "name": "python"
    }
  },
  "cells": [
    {
      "cell_type": "markdown",
      "metadata": {
        "id": "view-in-github",
        "colab_type": "text"
      },
      "source": [
        "<a href=\"https://colab.research.google.com/github/tlum1/movie_recommend_system/blob/main/%D0%9A%D0%B0%D0%BA_%D1%80%D0%B0%D0%B1%D0%BE%D1%82%D0%B0%D0%B5%D1%82_%D0%BA%D0%BE%D0%BB%D0%BB%D0%B0%D0%B1%D0%BE%D1%80%D0%B0%D1%82%D0%B8%D0%B2%D0%BD%D0%B0%D1%8F_%D1%84%D0%B8%D0%BB%D1%8C%D1%82%D1%80%D0%B0%D1%86%D0%B8%D1%8F.ipynb\" target=\"_parent\"><img src=\"https://colab.research.google.com/assets/colab-badge.svg\" alt=\"Open In Colab\"/></a>"
      ]
    },
    {
      "cell_type": "markdown",
      "source": [
        "# Импортирование нужных библиотек"
      ],
      "metadata": {
        "id": "eyboWVlqvq-V"
      }
    },
    {
      "cell_type": "code",
      "execution_count": 2,
      "metadata": {
        "id": "lqRKnTAiGIfi"
      },
      "outputs": [],
      "source": [
        "import pandas as pd\n",
        "import numpy as np"
      ]
    },
    {
      "cell_type": "markdown",
      "source": [
        "# Данные"
      ],
      "metadata": {
        "id": "GBrgoiciv3WQ"
      }
    },
    {
      "cell_type": "markdown",
      "source": [
        "Создадим небольшой датасет, в котором будут оценки пользователей на конкретные фильмы"
      ],
      "metadata": {
        "id": "jugrdDamv8h6"
      }
    },
    {
      "cell_type": "code",
      "source": [
        "df = pd.DataFrame({\n",
        "    \"user\": [\"Дашуля\", \"Фридман\", \"Ася\", \"Дмитрий Юрьевич\", \"Иван\", \"Дашуля\", \"Фридман\", \"Ася\", \"Дмитрий Юрьевич\", \"Иван\", \"Дашуля\", \"Ася\", \"Иван\", \"Дашуля\", \"Фридман\", \"Дмитрий Юрьевич\", \"Иван\", \"Дашуля\", \"Фридман\", \"Ася\", \"Дмитрий Юрьевич\"],\n",
        "    \"movie\": [\"Математики\",\"Математики\",\"Математики\",\"Математики\",\"Страх и ненависть на дифурах \", \"Страх и ненависть на дифурах \",\"Страх и ненависть на дифурах \",\"Страх и ненависть на дифурах \",\"Страх и ненависть на дифурах \",\"Once Upon a Applied Math\", \"Once Upon a Applied Math\",  \"Once Upon a Applied Math\", \"Функции, производные, две матрицы\",\"Функции, производные, две матрицы\",\"Функции, производные, две матрицы\",\"Функции, производные, две матрицы\",\"Не грози южному централу, решая уравнения у себя в квартале\", \"Не грози южному централу, решая уравнения у себя в квартале\",\"Не грози южному централу, решая уравнения у себя в квартале\",\"Не грози южному централу, решая уравнения у себя в квартале\", \"Не грози южному централу, решая уравнения у себя в квартале\"],\n",
        "    \"rating\": [3, 5, 5, 2, 3, 5, 3, 5, 3, 4, 2, 5, 5, 2, 4, 2, 2, 5, 3, 4, 2]\n",
        "})\n",
        "df"
      ],
      "metadata": {
        "colab": {
          "base_uri": "https://localhost:8080/",
          "height": 708
        },
        "id": "5wveqjuvGR1r",
        "outputId": "ba9c7418-04c0-4ea7-e432-84480b8b2b46"
      },
      "execution_count": 3,
      "outputs": [
        {
          "output_type": "execute_result",
          "data": {
            "text/plain": [
              "               user                                              movie  rating\n",
              "0            Дашуля                                         Математики       3\n",
              "1           Фридман                                         Математики       5\n",
              "2               Ася                                         Математики       5\n",
              "3   Дмитрий Юрьевич                                         Математики       2\n",
              "4              Иван                      Страх и ненависть на дифурах        3\n",
              "5            Дашуля                      Страх и ненависть на дифурах        5\n",
              "6           Фридман                      Страх и ненависть на дифурах        3\n",
              "7               Ася                      Страх и ненависть на дифурах        5\n",
              "8   Дмитрий Юрьевич                      Страх и ненависть на дифурах        3\n",
              "9              Иван                           Once Upon a Applied Math       4\n",
              "10           Дашуля                           Once Upon a Applied Math       2\n",
              "11              Ася                           Once Upon a Applied Math       5\n",
              "12             Иван                  Функции, производные, две матрицы       5\n",
              "13           Дашуля                  Функции, производные, две матрицы       2\n",
              "14          Фридман                  Функции, производные, две матрицы       4\n",
              "15  Дмитрий Юрьевич                  Функции, производные, две матрицы       2\n",
              "16             Иван  Не грози южному централу, решая уравнения у се...       2\n",
              "17           Дашуля  Не грози южному централу, решая уравнения у се...       5\n",
              "18          Фридман  Не грози южному централу, решая уравнения у се...       3\n",
              "19              Ася  Не грози южному централу, решая уравнения у се...       4\n",
              "20  Дмитрий Юрьевич  Не грози южному централу, решая уравнения у се...       2"
            ],
            "text/html": [
              "\n",
              "  <div id=\"df-e0c54e8a-1b72-4c31-a6d2-ab4931d73ee2\">\n",
              "    <div class=\"colab-df-container\">\n",
              "      <div>\n",
              "<style scoped>\n",
              "    .dataframe tbody tr th:only-of-type {\n",
              "        vertical-align: middle;\n",
              "    }\n",
              "\n",
              "    .dataframe tbody tr th {\n",
              "        vertical-align: top;\n",
              "    }\n",
              "\n",
              "    .dataframe thead th {\n",
              "        text-align: right;\n",
              "    }\n",
              "</style>\n",
              "<table border=\"1\" class=\"dataframe\">\n",
              "  <thead>\n",
              "    <tr style=\"text-align: right;\">\n",
              "      <th></th>\n",
              "      <th>user</th>\n",
              "      <th>movie</th>\n",
              "      <th>rating</th>\n",
              "    </tr>\n",
              "  </thead>\n",
              "  <tbody>\n",
              "    <tr>\n",
              "      <th>0</th>\n",
              "      <td>Дашуля</td>\n",
              "      <td>Математики</td>\n",
              "      <td>3</td>\n",
              "    </tr>\n",
              "    <tr>\n",
              "      <th>1</th>\n",
              "      <td>Фридман</td>\n",
              "      <td>Математики</td>\n",
              "      <td>5</td>\n",
              "    </tr>\n",
              "    <tr>\n",
              "      <th>2</th>\n",
              "      <td>Ася</td>\n",
              "      <td>Математики</td>\n",
              "      <td>5</td>\n",
              "    </tr>\n",
              "    <tr>\n",
              "      <th>3</th>\n",
              "      <td>Дмитрий Юрьевич</td>\n",
              "      <td>Математики</td>\n",
              "      <td>2</td>\n",
              "    </tr>\n",
              "    <tr>\n",
              "      <th>4</th>\n",
              "      <td>Иван</td>\n",
              "      <td>Страх и ненависть на дифурах</td>\n",
              "      <td>3</td>\n",
              "    </tr>\n",
              "    <tr>\n",
              "      <th>5</th>\n",
              "      <td>Дашуля</td>\n",
              "      <td>Страх и ненависть на дифурах</td>\n",
              "      <td>5</td>\n",
              "    </tr>\n",
              "    <tr>\n",
              "      <th>6</th>\n",
              "      <td>Фридман</td>\n",
              "      <td>Страх и ненависть на дифурах</td>\n",
              "      <td>3</td>\n",
              "    </tr>\n",
              "    <tr>\n",
              "      <th>7</th>\n",
              "      <td>Ася</td>\n",
              "      <td>Страх и ненависть на дифурах</td>\n",
              "      <td>5</td>\n",
              "    </tr>\n",
              "    <tr>\n",
              "      <th>8</th>\n",
              "      <td>Дмитрий Юрьевич</td>\n",
              "      <td>Страх и ненависть на дифурах</td>\n",
              "      <td>3</td>\n",
              "    </tr>\n",
              "    <tr>\n",
              "      <th>9</th>\n",
              "      <td>Иван</td>\n",
              "      <td>Once Upon a Applied Math</td>\n",
              "      <td>4</td>\n",
              "    </tr>\n",
              "    <tr>\n",
              "      <th>10</th>\n",
              "      <td>Дашуля</td>\n",
              "      <td>Once Upon a Applied Math</td>\n",
              "      <td>2</td>\n",
              "    </tr>\n",
              "    <tr>\n",
              "      <th>11</th>\n",
              "      <td>Ася</td>\n",
              "      <td>Once Upon a Applied Math</td>\n",
              "      <td>5</td>\n",
              "    </tr>\n",
              "    <tr>\n",
              "      <th>12</th>\n",
              "      <td>Иван</td>\n",
              "      <td>Функции, производные, две матрицы</td>\n",
              "      <td>5</td>\n",
              "    </tr>\n",
              "    <tr>\n",
              "      <th>13</th>\n",
              "      <td>Дашуля</td>\n",
              "      <td>Функции, производные, две матрицы</td>\n",
              "      <td>2</td>\n",
              "    </tr>\n",
              "    <tr>\n",
              "      <th>14</th>\n",
              "      <td>Фридман</td>\n",
              "      <td>Функции, производные, две матрицы</td>\n",
              "      <td>4</td>\n",
              "    </tr>\n",
              "    <tr>\n",
              "      <th>15</th>\n",
              "      <td>Дмитрий Юрьевич</td>\n",
              "      <td>Функции, производные, две матрицы</td>\n",
              "      <td>2</td>\n",
              "    </tr>\n",
              "    <tr>\n",
              "      <th>16</th>\n",
              "      <td>Иван</td>\n",
              "      <td>Не грози южному централу, решая уравнения у се...</td>\n",
              "      <td>2</td>\n",
              "    </tr>\n",
              "    <tr>\n",
              "      <th>17</th>\n",
              "      <td>Дашуля</td>\n",
              "      <td>Не грози южному централу, решая уравнения у се...</td>\n",
              "      <td>5</td>\n",
              "    </tr>\n",
              "    <tr>\n",
              "      <th>18</th>\n",
              "      <td>Фридман</td>\n",
              "      <td>Не грози южному централу, решая уравнения у се...</td>\n",
              "      <td>3</td>\n",
              "    </tr>\n",
              "    <tr>\n",
              "      <th>19</th>\n",
              "      <td>Ася</td>\n",
              "      <td>Не грози южному централу, решая уравнения у се...</td>\n",
              "      <td>4</td>\n",
              "    </tr>\n",
              "    <tr>\n",
              "      <th>20</th>\n",
              "      <td>Дмитрий Юрьевич</td>\n",
              "      <td>Не грози южному централу, решая уравнения у се...</td>\n",
              "      <td>2</td>\n",
              "    </tr>\n",
              "  </tbody>\n",
              "</table>\n",
              "</div>\n",
              "      <button class=\"colab-df-convert\" onclick=\"convertToInteractive('df-e0c54e8a-1b72-4c31-a6d2-ab4931d73ee2')\"\n",
              "              title=\"Convert this dataframe to an interactive table.\"\n",
              "              style=\"display:none;\">\n",
              "        \n",
              "  <svg xmlns=\"http://www.w3.org/2000/svg\" height=\"24px\"viewBox=\"0 0 24 24\"\n",
              "       width=\"24px\">\n",
              "    <path d=\"M0 0h24v24H0V0z\" fill=\"none\"/>\n",
              "    <path d=\"M18.56 5.44l.94 2.06.94-2.06 2.06-.94-2.06-.94-.94-2.06-.94 2.06-2.06.94zm-11 1L8.5 8.5l.94-2.06 2.06-.94-2.06-.94L8.5 2.5l-.94 2.06-2.06.94zm10 10l.94 2.06.94-2.06 2.06-.94-2.06-.94-.94-2.06-.94 2.06-2.06.94z\"/><path d=\"M17.41 7.96l-1.37-1.37c-.4-.4-.92-.59-1.43-.59-.52 0-1.04.2-1.43.59L10.3 9.45l-7.72 7.72c-.78.78-.78 2.05 0 2.83L4 21.41c.39.39.9.59 1.41.59.51 0 1.02-.2 1.41-.59l7.78-7.78 2.81-2.81c.8-.78.8-2.07 0-2.86zM5.41 20L4 18.59l7.72-7.72 1.47 1.35L5.41 20z\"/>\n",
              "  </svg>\n",
              "      </button>\n",
              "      \n",
              "  <style>\n",
              "    .colab-df-container {\n",
              "      display:flex;\n",
              "      flex-wrap:wrap;\n",
              "      gap: 12px;\n",
              "    }\n",
              "\n",
              "    .colab-df-convert {\n",
              "      background-color: #E8F0FE;\n",
              "      border: none;\n",
              "      border-radius: 50%;\n",
              "      cursor: pointer;\n",
              "      display: none;\n",
              "      fill: #1967D2;\n",
              "      height: 32px;\n",
              "      padding: 0 0 0 0;\n",
              "      width: 32px;\n",
              "    }\n",
              "\n",
              "    .colab-df-convert:hover {\n",
              "      background-color: #E2EBFA;\n",
              "      box-shadow: 0px 1px 2px rgba(60, 64, 67, 0.3), 0px 1px 3px 1px rgba(60, 64, 67, 0.15);\n",
              "      fill: #174EA6;\n",
              "    }\n",
              "\n",
              "    [theme=dark] .colab-df-convert {\n",
              "      background-color: #3B4455;\n",
              "      fill: #D2E3FC;\n",
              "    }\n",
              "\n",
              "    [theme=dark] .colab-df-convert:hover {\n",
              "      background-color: #434B5C;\n",
              "      box-shadow: 0px 1px 3px 1px rgba(0, 0, 0, 0.15);\n",
              "      filter: drop-shadow(0px 1px 2px rgba(0, 0, 0, 0.3));\n",
              "      fill: #FFFFFF;\n",
              "    }\n",
              "  </style>\n",
              "\n",
              "      <script>\n",
              "        const buttonEl =\n",
              "          document.querySelector('#df-e0c54e8a-1b72-4c31-a6d2-ab4931d73ee2 button.colab-df-convert');\n",
              "        buttonEl.style.display =\n",
              "          google.colab.kernel.accessAllowed ? 'block' : 'none';\n",
              "\n",
              "        async function convertToInteractive(key) {\n",
              "          const element = document.querySelector('#df-e0c54e8a-1b72-4c31-a6d2-ab4931d73ee2');\n",
              "          const dataTable =\n",
              "            await google.colab.kernel.invokeFunction('convertToInteractive',\n",
              "                                                     [key], {});\n",
              "          if (!dataTable) return;\n",
              "\n",
              "          const docLinkHtml = 'Like what you see? Visit the ' +\n",
              "            '<a target=\"_blank\" href=https://colab.research.google.com/notebooks/data_table.ipynb>data table notebook</a>'\n",
              "            + ' to learn more about interactive tables.';\n",
              "          element.innerHTML = '';\n",
              "          dataTable['output_type'] = 'display_data';\n",
              "          await google.colab.output.renderOutput(dataTable, element);\n",
              "          const docLink = document.createElement('div');\n",
              "          docLink.innerHTML = docLinkHtml;\n",
              "          element.appendChild(docLink);\n",
              "        }\n",
              "      </script>\n",
              "    </div>\n",
              "  </div>\n",
              "  "
            ]
          },
          "metadata": {},
          "execution_count": 3
        }
      ]
    },
    {
      "cell_type": "markdown",
      "source": [
        "Построим **матрицу смежности** для оценок пользователей"
      ],
      "metadata": {
        "id": "5-hvT3VFwC9b"
      }
    },
    {
      "cell_type": "code",
      "source": [
        "interact_matrix = pd.pivot_table(df, index=\"user\", columns=\"movie\", values=\"rating\")\n",
        "source_interact_matrix = interact_matrix.copy()\n",
        "interact_matrix"
      ],
      "metadata": {
        "id": "dQYxgOVXGrtN",
        "colab": {
          "base_uri": "https://localhost:8080/",
          "height": 316
        },
        "outputId": "a6ab9fa3-698c-4892-fef1-e2355f1f0877"
      },
      "execution_count": 113,
      "outputs": [
        {
          "output_type": "execute_result",
          "data": {
            "text/plain": [
              "movie            Once Upon a Applied Math  Математики  \\\n",
              "user                                                    \n",
              "Ася                                   5.0         5.0   \n",
              "Дашуля                                2.0         3.0   \n",
              "Дмитрий Юрьевич                       NaN         2.0   \n",
              "Иван                                  4.0         NaN   \n",
              "Фридман                               NaN         5.0   \n",
              "\n",
              "movie            Не грози южному централу, решая уравнения у себя в квартале  \\\n",
              "user                                                                           \n",
              "Ася                                                            4.0             \n",
              "Дашуля                                                         5.0             \n",
              "Дмитрий Юрьевич                                                2.0             \n",
              "Иван                                                           2.0             \n",
              "Фридман                                                        3.0             \n",
              "\n",
              "movie            Страх и ненависть на дифурах   \\\n",
              "user                                             \n",
              "Ася                                        5.0   \n",
              "Дашуля                                     5.0   \n",
              "Дмитрий Юрьевич                            3.0   \n",
              "Иван                                       3.0   \n",
              "Фридман                                    3.0   \n",
              "\n",
              "movie            Функции, производные, две матрицы  \n",
              "user                                                \n",
              "Ася                                            NaN  \n",
              "Дашуля                                         2.0  \n",
              "Дмитрий Юрьевич                                2.0  \n",
              "Иван                                           5.0  \n",
              "Фридман                                        4.0  "
            ],
            "text/html": [
              "\n",
              "  <div id=\"df-0fe08086-27ef-4dda-818d-085e94589c93\">\n",
              "    <div class=\"colab-df-container\">\n",
              "      <div>\n",
              "<style scoped>\n",
              "    .dataframe tbody tr th:only-of-type {\n",
              "        vertical-align: middle;\n",
              "    }\n",
              "\n",
              "    .dataframe tbody tr th {\n",
              "        vertical-align: top;\n",
              "    }\n",
              "\n",
              "    .dataframe thead th {\n",
              "        text-align: right;\n",
              "    }\n",
              "</style>\n",
              "<table border=\"1\" class=\"dataframe\">\n",
              "  <thead>\n",
              "    <tr style=\"text-align: right;\">\n",
              "      <th>movie</th>\n",
              "      <th>Once Upon a Applied Math</th>\n",
              "      <th>Математики</th>\n",
              "      <th>Не грози южному централу, решая уравнения у себя в квартале</th>\n",
              "      <th>Страх и ненависть на дифурах</th>\n",
              "      <th>Функции, производные, две матрицы</th>\n",
              "    </tr>\n",
              "    <tr>\n",
              "      <th>user</th>\n",
              "      <th></th>\n",
              "      <th></th>\n",
              "      <th></th>\n",
              "      <th></th>\n",
              "      <th></th>\n",
              "    </tr>\n",
              "  </thead>\n",
              "  <tbody>\n",
              "    <tr>\n",
              "      <th>Ася</th>\n",
              "      <td>5.0</td>\n",
              "      <td>5.0</td>\n",
              "      <td>4.0</td>\n",
              "      <td>5.0</td>\n",
              "      <td>NaN</td>\n",
              "    </tr>\n",
              "    <tr>\n",
              "      <th>Дашуля</th>\n",
              "      <td>2.0</td>\n",
              "      <td>3.0</td>\n",
              "      <td>5.0</td>\n",
              "      <td>5.0</td>\n",
              "      <td>2.0</td>\n",
              "    </tr>\n",
              "    <tr>\n",
              "      <th>Дмитрий Юрьевич</th>\n",
              "      <td>NaN</td>\n",
              "      <td>2.0</td>\n",
              "      <td>2.0</td>\n",
              "      <td>3.0</td>\n",
              "      <td>2.0</td>\n",
              "    </tr>\n",
              "    <tr>\n",
              "      <th>Иван</th>\n",
              "      <td>4.0</td>\n",
              "      <td>NaN</td>\n",
              "      <td>2.0</td>\n",
              "      <td>3.0</td>\n",
              "      <td>5.0</td>\n",
              "    </tr>\n",
              "    <tr>\n",
              "      <th>Фридман</th>\n",
              "      <td>NaN</td>\n",
              "      <td>5.0</td>\n",
              "      <td>3.0</td>\n",
              "      <td>3.0</td>\n",
              "      <td>4.0</td>\n",
              "    </tr>\n",
              "  </tbody>\n",
              "</table>\n",
              "</div>\n",
              "      <button class=\"colab-df-convert\" onclick=\"convertToInteractive('df-0fe08086-27ef-4dda-818d-085e94589c93')\"\n",
              "              title=\"Convert this dataframe to an interactive table.\"\n",
              "              style=\"display:none;\">\n",
              "        \n",
              "  <svg xmlns=\"http://www.w3.org/2000/svg\" height=\"24px\"viewBox=\"0 0 24 24\"\n",
              "       width=\"24px\">\n",
              "    <path d=\"M0 0h24v24H0V0z\" fill=\"none\"/>\n",
              "    <path d=\"M18.56 5.44l.94 2.06.94-2.06 2.06-.94-2.06-.94-.94-2.06-.94 2.06-2.06.94zm-11 1L8.5 8.5l.94-2.06 2.06-.94-2.06-.94L8.5 2.5l-.94 2.06-2.06.94zm10 10l.94 2.06.94-2.06 2.06-.94-2.06-.94-.94-2.06-.94 2.06-2.06.94z\"/><path d=\"M17.41 7.96l-1.37-1.37c-.4-.4-.92-.59-1.43-.59-.52 0-1.04.2-1.43.59L10.3 9.45l-7.72 7.72c-.78.78-.78 2.05 0 2.83L4 21.41c.39.39.9.59 1.41.59.51 0 1.02-.2 1.41-.59l7.78-7.78 2.81-2.81c.8-.78.8-2.07 0-2.86zM5.41 20L4 18.59l7.72-7.72 1.47 1.35L5.41 20z\"/>\n",
              "  </svg>\n",
              "      </button>\n",
              "      \n",
              "  <style>\n",
              "    .colab-df-container {\n",
              "      display:flex;\n",
              "      flex-wrap:wrap;\n",
              "      gap: 12px;\n",
              "    }\n",
              "\n",
              "    .colab-df-convert {\n",
              "      background-color: #E8F0FE;\n",
              "      border: none;\n",
              "      border-radius: 50%;\n",
              "      cursor: pointer;\n",
              "      display: none;\n",
              "      fill: #1967D2;\n",
              "      height: 32px;\n",
              "      padding: 0 0 0 0;\n",
              "      width: 32px;\n",
              "    }\n",
              "\n",
              "    .colab-df-convert:hover {\n",
              "      background-color: #E2EBFA;\n",
              "      box-shadow: 0px 1px 2px rgba(60, 64, 67, 0.3), 0px 1px 3px 1px rgba(60, 64, 67, 0.15);\n",
              "      fill: #174EA6;\n",
              "    }\n",
              "\n",
              "    [theme=dark] .colab-df-convert {\n",
              "      background-color: #3B4455;\n",
              "      fill: #D2E3FC;\n",
              "    }\n",
              "\n",
              "    [theme=dark] .colab-df-convert:hover {\n",
              "      background-color: #434B5C;\n",
              "      box-shadow: 0px 1px 3px 1px rgba(0, 0, 0, 0.15);\n",
              "      filter: drop-shadow(0px 1px 2px rgba(0, 0, 0, 0.3));\n",
              "      fill: #FFFFFF;\n",
              "    }\n",
              "  </style>\n",
              "\n",
              "      <script>\n",
              "        const buttonEl =\n",
              "          document.querySelector('#df-0fe08086-27ef-4dda-818d-085e94589c93 button.colab-df-convert');\n",
              "        buttonEl.style.display =\n",
              "          google.colab.kernel.accessAllowed ? 'block' : 'none';\n",
              "\n",
              "        async function convertToInteractive(key) {\n",
              "          const element = document.querySelector('#df-0fe08086-27ef-4dda-818d-085e94589c93');\n",
              "          const dataTable =\n",
              "            await google.colab.kernel.invokeFunction('convertToInteractive',\n",
              "                                                     [key], {});\n",
              "          if (!dataTable) return;\n",
              "\n",
              "          const docLinkHtml = 'Like what you see? Visit the ' +\n",
              "            '<a target=\"_blank\" href=https://colab.research.google.com/notebooks/data_table.ipynb>data table notebook</a>'\n",
              "            + ' to learn more about interactive tables.';\n",
              "          element.innerHTML = '';\n",
              "          dataTable['output_type'] = 'display_data';\n",
              "          await google.colab.output.renderOutput(dataTable, element);\n",
              "          const docLink = document.createElement('div');\n",
              "          docLink.innerHTML = docLinkHtml;\n",
              "          element.appendChild(docLink);\n",
              "        }\n",
              "      </script>\n",
              "    </div>\n",
              "  </div>\n",
              "  "
            ]
          },
          "metadata": {},
          "execution_count": 113
        }
      ]
    },
    {
      "cell_type": "markdown",
      "source": [
        "Обнулим среднуюю оценку для каждого польщователя\n",
        "Так как каждый пользователь оценивает фильмы *по-своему*, то некоторые оценки могут быть информативны, а некоторые нет. Например, для пользователя, который ставит оценки ``8-10`` почти всем фильмам высокие оценки не информативны, в отличие от низких  ``0-4``"
      ],
      "metadata": {
        "id": "5VL4GdeRwJkU"
      }
    },
    {
      "cell_type": "code",
      "source": [
        "for i in range(len(interact_matrix)):\n",
        "    interact_matrix.iloc[i] -= interact_matrix.iloc[i].mean()\n",
        "interact_matrix.fillna(0, inplace=True)\n",
        "interact_matrix"
      ],
      "metadata": {
        "colab": {
          "base_uri": "https://localhost:8080/",
          "height": 316
        },
        "id": "Vz7CFMPwK0Cl",
        "outputId": "56a08daf-c7f9-4a93-8f14-30fc23563c6c"
      },
      "execution_count": 5,
      "outputs": [
        {
          "output_type": "execute_result",
          "data": {
            "text/plain": [
              "movie            Once Upon a Applied Math  Математики  \\\n",
              "user                                                    \n",
              "Ася                                  0.25        0.25   \n",
              "Дашуля                              -1.40       -0.40   \n",
              "Дмитрий Юрьевич                      0.00       -0.25   \n",
              "Иван                                 0.50        0.00   \n",
              "Фридман                              0.00        1.25   \n",
              "\n",
              "movie            Не грози южному централу, решая уравнения у себя в квартале  \\\n",
              "user                                                                           \n",
              "Ася                                                          -0.75             \n",
              "Дашуля                                                        1.60             \n",
              "Дмитрий Юрьевич                                              -0.25             \n",
              "Иван                                                         -1.50             \n",
              "Фридман                                                      -0.75             \n",
              "\n",
              "movie            Страх и ненависть на дифурах   \\\n",
              "user                                             \n",
              "Ася                                       0.25   \n",
              "Дашуля                                    1.60   \n",
              "Дмитрий Юрьевич                           0.75   \n",
              "Иван                                     -0.50   \n",
              "Фридман                                  -0.75   \n",
              "\n",
              "movie            Функции, производные, две матрицы  \n",
              "user                                                \n",
              "Ася                                           0.00  \n",
              "Дашуля                                       -1.40  \n",
              "Дмитрий Юрьевич                              -0.25  \n",
              "Иван                                          1.50  \n",
              "Фридман                                       0.25  "
            ],
            "text/html": [
              "\n",
              "  <div id=\"df-9f14eee5-1bd5-487d-9f84-5c82844c6c1c\">\n",
              "    <div class=\"colab-df-container\">\n",
              "      <div>\n",
              "<style scoped>\n",
              "    .dataframe tbody tr th:only-of-type {\n",
              "        vertical-align: middle;\n",
              "    }\n",
              "\n",
              "    .dataframe tbody tr th {\n",
              "        vertical-align: top;\n",
              "    }\n",
              "\n",
              "    .dataframe thead th {\n",
              "        text-align: right;\n",
              "    }\n",
              "</style>\n",
              "<table border=\"1\" class=\"dataframe\">\n",
              "  <thead>\n",
              "    <tr style=\"text-align: right;\">\n",
              "      <th>movie</th>\n",
              "      <th>Once Upon a Applied Math</th>\n",
              "      <th>Математики</th>\n",
              "      <th>Не грози южному централу, решая уравнения у себя в квартале</th>\n",
              "      <th>Страх и ненависть на дифурах</th>\n",
              "      <th>Функции, производные, две матрицы</th>\n",
              "    </tr>\n",
              "    <tr>\n",
              "      <th>user</th>\n",
              "      <th></th>\n",
              "      <th></th>\n",
              "      <th></th>\n",
              "      <th></th>\n",
              "      <th></th>\n",
              "    </tr>\n",
              "  </thead>\n",
              "  <tbody>\n",
              "    <tr>\n",
              "      <th>Ася</th>\n",
              "      <td>0.25</td>\n",
              "      <td>0.25</td>\n",
              "      <td>-0.75</td>\n",
              "      <td>0.25</td>\n",
              "      <td>0.00</td>\n",
              "    </tr>\n",
              "    <tr>\n",
              "      <th>Дашуля</th>\n",
              "      <td>-1.40</td>\n",
              "      <td>-0.40</td>\n",
              "      <td>1.60</td>\n",
              "      <td>1.60</td>\n",
              "      <td>-1.40</td>\n",
              "    </tr>\n",
              "    <tr>\n",
              "      <th>Дмитрий Юрьевич</th>\n",
              "      <td>0.00</td>\n",
              "      <td>-0.25</td>\n",
              "      <td>-0.25</td>\n",
              "      <td>0.75</td>\n",
              "      <td>-0.25</td>\n",
              "    </tr>\n",
              "    <tr>\n",
              "      <th>Иван</th>\n",
              "      <td>0.50</td>\n",
              "      <td>0.00</td>\n",
              "      <td>-1.50</td>\n",
              "      <td>-0.50</td>\n",
              "      <td>1.50</td>\n",
              "    </tr>\n",
              "    <tr>\n",
              "      <th>Фридман</th>\n",
              "      <td>0.00</td>\n",
              "      <td>1.25</td>\n",
              "      <td>-0.75</td>\n",
              "      <td>-0.75</td>\n",
              "      <td>0.25</td>\n",
              "    </tr>\n",
              "  </tbody>\n",
              "</table>\n",
              "</div>\n",
              "      <button class=\"colab-df-convert\" onclick=\"convertToInteractive('df-9f14eee5-1bd5-487d-9f84-5c82844c6c1c')\"\n",
              "              title=\"Convert this dataframe to an interactive table.\"\n",
              "              style=\"display:none;\">\n",
              "        \n",
              "  <svg xmlns=\"http://www.w3.org/2000/svg\" height=\"24px\"viewBox=\"0 0 24 24\"\n",
              "       width=\"24px\">\n",
              "    <path d=\"M0 0h24v24H0V0z\" fill=\"none\"/>\n",
              "    <path d=\"M18.56 5.44l.94 2.06.94-2.06 2.06-.94-2.06-.94-.94-2.06-.94 2.06-2.06.94zm-11 1L8.5 8.5l.94-2.06 2.06-.94-2.06-.94L8.5 2.5l-.94 2.06-2.06.94zm10 10l.94 2.06.94-2.06 2.06-.94-2.06-.94-.94-2.06-.94 2.06-2.06.94z\"/><path d=\"M17.41 7.96l-1.37-1.37c-.4-.4-.92-.59-1.43-.59-.52 0-1.04.2-1.43.59L10.3 9.45l-7.72 7.72c-.78.78-.78 2.05 0 2.83L4 21.41c.39.39.9.59 1.41.59.51 0 1.02-.2 1.41-.59l7.78-7.78 2.81-2.81c.8-.78.8-2.07 0-2.86zM5.41 20L4 18.59l7.72-7.72 1.47 1.35L5.41 20z\"/>\n",
              "  </svg>\n",
              "      </button>\n",
              "      \n",
              "  <style>\n",
              "    .colab-df-container {\n",
              "      display:flex;\n",
              "      flex-wrap:wrap;\n",
              "      gap: 12px;\n",
              "    }\n",
              "\n",
              "    .colab-df-convert {\n",
              "      background-color: #E8F0FE;\n",
              "      border: none;\n",
              "      border-radius: 50%;\n",
              "      cursor: pointer;\n",
              "      display: none;\n",
              "      fill: #1967D2;\n",
              "      height: 32px;\n",
              "      padding: 0 0 0 0;\n",
              "      width: 32px;\n",
              "    }\n",
              "\n",
              "    .colab-df-convert:hover {\n",
              "      background-color: #E2EBFA;\n",
              "      box-shadow: 0px 1px 2px rgba(60, 64, 67, 0.3), 0px 1px 3px 1px rgba(60, 64, 67, 0.15);\n",
              "      fill: #174EA6;\n",
              "    }\n",
              "\n",
              "    [theme=dark] .colab-df-convert {\n",
              "      background-color: #3B4455;\n",
              "      fill: #D2E3FC;\n",
              "    }\n",
              "\n",
              "    [theme=dark] .colab-df-convert:hover {\n",
              "      background-color: #434B5C;\n",
              "      box-shadow: 0px 1px 3px 1px rgba(0, 0, 0, 0.15);\n",
              "      filter: drop-shadow(0px 1px 2px rgba(0, 0, 0, 0.3));\n",
              "      fill: #FFFFFF;\n",
              "    }\n",
              "  </style>\n",
              "\n",
              "      <script>\n",
              "        const buttonEl =\n",
              "          document.querySelector('#df-9f14eee5-1bd5-487d-9f84-5c82844c6c1c button.colab-df-convert');\n",
              "        buttonEl.style.display =\n",
              "          google.colab.kernel.accessAllowed ? 'block' : 'none';\n",
              "\n",
              "        async function convertToInteractive(key) {\n",
              "          const element = document.querySelector('#df-9f14eee5-1bd5-487d-9f84-5c82844c6c1c');\n",
              "          const dataTable =\n",
              "            await google.colab.kernel.invokeFunction('convertToInteractive',\n",
              "                                                     [key], {});\n",
              "          if (!dataTable) return;\n",
              "\n",
              "          const docLinkHtml = 'Like what you see? Visit the ' +\n",
              "            '<a target=\"_blank\" href=https://colab.research.google.com/notebooks/data_table.ipynb>data table notebook</a>'\n",
              "            + ' to learn more about interactive tables.';\n",
              "          element.innerHTML = '';\n",
              "          dataTable['output_type'] = 'display_data';\n",
              "          await google.colab.output.renderOutput(dataTable, element);\n",
              "          const docLink = document.createElement('div');\n",
              "          docLink.innerHTML = docLinkHtml;\n",
              "          element.appendChild(docLink);\n",
              "        }\n",
              "      </script>\n",
              "    </div>\n",
              "  </div>\n",
              "  "
            ]
          },
          "metadata": {},
          "execution_count": 5
        }
      ]
    },
    {
      "cell_type": "markdown",
      "source": [
        "Создадим словарь, где ключем будет индекс столбца фильма, а значением его название"
      ],
      "metadata": {
        "id": "3ETyYFON2fvN"
      }
    },
    {
      "cell_type": "code",
      "source": [
        "columns = source_interact_matrix.columns\n",
        "id_to_movie = {i: columns[i] for i in range(len(columns))}\n",
        "id_to_movie"
      ],
      "metadata": {
        "colab": {
          "base_uri": "https://localhost:8080/"
        },
        "id": "KsU8tRWi2fHa",
        "outputId": "4d208ca6-a215-481c-f68b-197fe03ae63c"
      },
      "execution_count": 6,
      "outputs": [
        {
          "output_type": "execute_result",
          "data": {
            "text/plain": [
              "{0: 'Once Upon a Applied Math',\n",
              " 1: 'Математики',\n",
              " 2: 'Не грози южному централу, решая уравнения у себя в квартале',\n",
              " 3: 'Страх и ненависть на дифурах ',\n",
              " 4: 'Функции, производные, две матрицы'}"
            ]
          },
          "metadata": {},
          "execution_count": 6
        }
      ]
    },
    {
      "cell_type": "markdown",
      "source": [
        "# Построим модель колаборативной фильтрации"
      ],
      "metadata": {
        "id": "LLfJpb6Jwn0L"
      }
    },
    {
      "cell_type": "markdown",
      "source": [
        "Импортируем метрику схожести объектов, в данном случае будем просто считать косинус угла между векторами, тем самым чем ближе косинус угла между векторами к **единице**, тем больше они похожи"
      ],
      "metadata": {
        "id": "PRjca0GhwvHR"
      }
    },
    {
      "cell_type": "code",
      "source": [
        "from sklearn.metrics.pairwise import cosine_similarity"
      ],
      "metadata": {
        "id": "p5_dwRRgIduT"
      },
      "execution_count": 7,
      "outputs": []
    },
    {
      "cell_type": "markdown",
      "source": [
        "Попробуем предсказать оценку **Ивана** на фильм **Математики**\n",
        "\n",
        "Все пропущенные значения заменим на среднюю оценку **Ивана**"
      ],
      "metadata": {
        "id": "gntbvpu2zkSc"
      }
    },
    {
      "cell_type": "code",
      "source": [
        "ivan_ratings = source_interact_matrix.loc[\"Иван\"].values\n",
        "# создадим вектор, где 0 фильм - который Иван еще не оценил и 1 - фильм уже оценный Иваном\n",
        "ivan_watched  = np.zeros((5))\n",
        "ivan_watched[~np.isnan(ivan_ratings)] = 1\n",
        "\n",
        "# Заполним пропущенные значения средним\n",
        "ivan_ratings[np.isnan(ivan_ratings)] = np.nanmean(ivan_ratings)\n",
        "ivan_ratings"
      ],
      "metadata": {
        "id": "E-JVsfspM6Qm",
        "colab": {
          "base_uri": "https://localhost:8080/"
        },
        "outputId": "d07c267b-0f7c-4331-ec79-d3f2b47699fa"
      },
      "execution_count": 8,
      "outputs": [
        {
          "output_type": "execute_result",
          "data": {
            "text/plain": [
              "array([4. , 3.5, 2. , 3. , 5. ])"
            ]
          },
          "metadata": {},
          "execution_count": 8
        }
      ]
    },
    {
      "cell_type": "code",
      "source": [
        "ivan_ratings.shape, ivan_watched.shape"
      ],
      "metadata": {
        "colab": {
          "base_uri": "https://localhost:8080/"
        },
        "id": "ym9Qmaw45G6x",
        "outputId": "c9263963-e355-41bc-cb9e-0de7dc15e440"
      },
      "execution_count": 9,
      "outputs": [
        {
          "output_type": "execute_result",
          "data": {
            "text/plain": [
              "((5,), (5,))"
            ]
          },
          "metadata": {},
          "execution_count": 9
        }
      ]
    },
    {
      "cell_type": "markdown",
      "source": [
        "## user-based фильтрация"
      ],
      "metadata": {
        "id": "YgNKuEirw9g-"
      }
    },
    {
      "cell_type": "markdown",
      "source": [
        "Построим матрицу схожести каждого пользователя с каждым"
      ],
      "metadata": {
        "id": "yUjBrJkwxFNR"
      }
    },
    {
      "cell_type": "code",
      "source": [
        "user_based_sim = cosine_similarity(interact_matrix)\n",
        "np.fill_diagonal(user_based_sim, 0)\n",
        "user_based_sim"
      ],
      "metadata": {
        "colab": {
          "base_uri": "https://localhost:8080/"
        },
        "id": "Y6vQFyB5KexJ",
        "outputId": "16fa4b4f-9101-4d56-d0fe-105c77af1b24"
      },
      "execution_count": 10,
      "outputs": [
        {
          "output_type": "execute_result",
          "data": {
            "text/plain": [
              "array([[ 0.        , -0.47586687,  0.41666667,  0.5809475 ,  0.47871355],\n",
              "       [-0.47586687,  0.        ,  0.47586687, -0.88465174, -0.64613475],\n",
              "       [ 0.41666667,  0.47586687,  0.        , -0.19364917, -0.52223297],\n",
              "       [ 0.5809475 , -0.88465174, -0.19364917,  0.        ,  0.5056499 ],\n",
              "       [ 0.47871355, -0.64613475, -0.52223297,  0.5056499 ,  0.        ]])"
            ]
          },
          "metadata": {},
          "execution_count": 10
        }
      ]
    },
    {
      "cell_type": "markdown",
      "source": [
        "**Как происходит оценка оценка рейтинга для фильму?**\n",
        "\n",
        "Простой и логичный подход – приблизить новый рейтинг как средний рейтинг данного пользователя плюс отклонения от среднего рейтингов других пользователей, взвешенных этими самыми весами\n",
        "\n",
        "$$r_{i, a} = \\overline{r_i} + \\frac{∑(r_{j, a} - \\overline{r_j})*w_{i, j}}{∑|w_{i, j}|}$$\n",
        "\n",
        "$\\overline{r_i}$ - средний рейтинг пользователя\n",
        "\n",
        "$w_{i, j}$ - \"похожесть\" между полльзователями"
      ],
      "metadata": {
        "id": "L4FQZi5M7YS-"
      }
    },
    {
      "cell_type": "markdown",
      "source": [
        "Возьмем строку из ``user_based_sim``, где рассчитаны соседи **Ивана**"
      ],
      "metadata": {
        "id": "PWSYiLiF8E9x"
      }
    },
    {
      "cell_type": "code",
      "source": [
        "ivan_sim = user_based_sim[3]"
      ],
      "metadata": {
        "id": "lWBABsyY8Esc"
      },
      "execution_count": 11,
      "outputs": []
    },
    {
      "cell_type": "code",
      "source": [
        "pred = ivan_ratings.mean() + interact_matrix.T.dot(ivan_sim) / abs(ivan_sim).sum()\n",
        "for movie, rating in pred.items():\n",
        "    print(f\"Фильм: {movie},\\nПредсказанная оценка: {rating}\")"
      ],
      "metadata": {
        "colab": {
          "base_uri": "https://localhost:8080/"
        },
        "outputId": "5db556e1-b508-42fb-92f0-e0ca4748593e",
        "id": "4QLbLaaK7YTA"
      },
      "execution_count": 12,
      "outputs": [
        {
          "output_type": "stream",
          "name": "stdout",
          "text": [
            "Фильм: Once Upon a Applied Math,\n",
            "Предсказанная оценка: 4.139175200633995\n",
            "Фильм: Математики,\n",
            "Предсказанная оценка: 4.044862653131029\n",
            "Фильм: Не грози южному централу, решая уравнения у себя в квартале,\n",
            "Предсказанная оценка: 2.4921103761311945\n",
            "Фильм: Страх и ненависть на дифурах ,\n",
            "Предсказанная оценка: 2.6710094653312604\n",
            "Фильм: Функции, производные, две матрицы,\n",
            "Предсказанная оценка: 4.152842304772522\n"
          ]
        }
      ]
    },
    {
      "cell_type": "markdown",
      "source": [
        "Таким образом мы видим, что **Иван** поставит фильму **Математики** оценку ``4``"
      ],
      "metadata": {
        "id": "dZBuj8s59DlT"
      }
    },
    {
      "cell_type": "markdown",
      "source": [
        "## item-based фильтрация"
      ],
      "metadata": {
        "id": "dS60eBjCxBCD"
      }
    },
    {
      "cell_type": "markdown",
      "source": [
        "Построим матрицу схожести каждого фильма с каждым"
      ],
      "metadata": {
        "id": "9BjsvJC1xKoZ"
      }
    },
    {
      "cell_type": "code",
      "source": [
        "item_based_sim = cosine_similarity(interact_matrix.transpose())\n",
        "np.fill_diagonal(item_based_sim, 0)\n",
        "item_based_sim"
      ],
      "metadata": {
        "id": "84JEYbyRKna0",
        "colab": {
          "base_uri": "https://localhost:8080/"
        },
        "outputId": "9efac997-9695-48e7-e4b7-17fbb1435bec"
      },
      "execution_count": 13,
      "outputs": [
        {
          "output_type": "execute_result",
          "data": {
            "text/plain": [
              "array([[ 0.        ,  0.30380519, -0.86069342, -0.80540265,  0.86342137],\n",
              "       [ 0.30380519,  0.        , -0.51145776, -0.62647055,  0.33038843],\n",
              "       [-0.86069342, -0.51145776,  0.        ,  0.71429623, -0.90509054],\n",
              "       [-0.80540265, -0.62647055,  0.71429623,  0.        , -0.80834412],\n",
              "       [ 0.86342137,  0.33038843, -0.90509054, -0.80834412,  0.        ]])"
            ]
          },
          "metadata": {},
          "execution_count": 13
        }
      ]
    },
    {
      "cell_type": "markdown",
      "source": [
        "**Теперь займемся предсказаниями оценок**\n",
        "\n",
        "Чтобы предсказывать оценку пользователя на конретный фильм можем воспользоваться формулой. Это просто-напросто среднее взвешенное уже оценненых фильмов **Иваном** плюс средняя оценка **Фильма**, оценку на который мы пытаемся предсказать\n",
        "\n",
        "$$r_i = \\overline{r_i} + \\frac{\\sum(r_b - \\overline{r_i})*w_{ab}}{∑|w_{ab}|}$$\n",
        "\n",
        "$\\overline{r_i}$ - средний рейтинг фильма\n",
        "\n",
        "$w_{ab}$ - \"похожесть\" между объектами\n",
        "\n",
        "Таким образом, из этой формулы ясно, что достаточно умножить матрицу ``item-item`` на вектор оценок польователя, где все пропущенные значения заменены средней оценкой пользователя"
      ],
      "metadata": {
        "id": "vXF0Fx4OxO6P"
      }
    },
    {
      "cell_type": "code",
      "source": [
        "pred = interact_matrix.mean(axis=0) + (item_based_sim.dot(ivan_ratings - ivan_ratings.mean()) / abs(item_based_sim).dot(ivan_watched))\n",
        "for i in range(len(pred)):\n",
        "    print(f\"Фильм: {id_to_movie[i]},\\nПредсказанная оценка: {pred[i]}\")"
      ],
      "metadata": {
        "id": "QSux4ouANJhU",
        "colab": {
          "base_uri": "https://localhost:8080/"
        },
        "outputId": "c6c6111d-e086-4dcb-87ca-737736bb3855"
      },
      "execution_count": 116,
      "outputs": [
        {
          "output_type": "stream",
          "name": "stdout",
          "text": [
            "Фильм: Once Upon a Applied Math,\n",
            "Предсказанная оценка: 4.8482649674771725\n",
            "Фильм: Математики,\n",
            "Предсказанная оценка: 4.725049812455768\n",
            "Фильм: Не грози южному централу, решая уравнения у себя в квартале,\n",
            "Предсказанная оценка: 2.3350559379937446\n",
            "Фильм: Страх и ненависть на дифурах ,\n",
            "Предсказанная оценка: 2.6459569490932937\n",
            "Фильм: Функции, производные, две матрицы,\n",
            "Предсказанная оценка: 4.101238303975564\n"
          ]
        }
      ]
    },
    {
      "cell_type": "markdown",
      "source": [
        "Таким образом мы видим, что **Иван** поставит фильму **Математики** оценку ``4.7``"
      ],
      "metadata": {
        "id": "D2OxshuE65o0"
      }
    },
    {
      "cell_type": "markdown",
      "source": [
        "## Матричное разложение. Использование модели SVD++"
      ],
      "metadata": {
        "id": "vCn41u7eeORl"
      }
    },
    {
      "cell_type": "markdown",
      "source": [
        "Модель SVD++ представляет собой следующую стркуткуру\n",
        "\n",
        "$$Y = \\mu  + B_{item} + B_{user} + UV^T$$\n",
        "\n",
        "$Y$ --- Матрица предсказанных оценок пользователей\n",
        "\n",
        "$\\mu$ --- средняя оценка по всей базе\n",
        "\n",
        "$B_{item}$ --- вектор размера $m$ базовых предикторов для объектов\n",
        "\n",
        "$B_{user}$ --- вектор размера $n$ базовых предикторов для пользователей\n",
        " \n",
        "$U$ --- Матрица $n × k$ факторов пользователей\n",
        "\n",
        "$V$ --- Матрица $m × k$ факторов объектов \n",
        "\n",
        "То есть, рейтинг {i}-го пользователя на $a$-ый фильм будет высчитываться следующим образом\n",
        "\n",
        "$$r_{i,a} = \\mu + b_i + b_a + u_iv_{a}^T$$\n",
        "\n",
        "Таким образом, с помощью SVD-разложения мы сокращаем признаковое пространство, при этом стараясь сохранить как можно больше информации об объектах. К примеру, в магазине фруктов у нас продаются только яблоки (разных цветов и сортов), а также апельсины (тоже разных цветов и сортов), тогда мы можем сократить наше признаковое пространство до $n$-мерного до 2-мерного, таким образом мы сможем ускорить вычисления, потеряв минимум информации"
      ],
      "metadata": {
        "id": "HAm6FF1gea1z"
      }
    },
    {
      "cell_type": "markdown",
      "source": [
        "![image.png](data:image/png;base64,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)"
      ],
      "metadata": {
        "id": "qPiJjhWbkc-2"
      }
    },
    {
      "cell_type": "markdown",
      "source": [
        "Обучать модель будем при помощи градиентного спуска. \n",
        "\n",
        "В качестве функции потерь будем использовать ``MSE``.\n",
        "\n",
        "$$MSE = \\frac{∑(y_{true} - y_{pred})^2}{n}$$\n",
        "\n",
        "Выпишем нашу функцию потерь\n",
        "\n",
        "$$Loss(\\mu, B_{user}, B_{item}, U, V) = \\frac{∑(Y_{true} - Y_{pred})^2}{n} = \\frac{∑(Y_{true} - \\mu - B_{item} - B_{user} - UV^T)^2}{n}$$\n",
        "\n",
        "Запишем правила, по которым мы будем изменять параметры\n",
        "\n",
        "$B_{user} = B_{user} + \\alpha*err$\n",
        "\n",
        "$B_{item} = B_{item} + \\alpha*err$\n",
        "\n",
        "$U = U + \\alpha * err * V$\n",
        "\n",
        "$V = V + \\alpha * err * U$"
      ],
      "metadata": {
        "id": "u-0U6QwXh0aM"
      }
    },
    {
      "cell_type": "markdown",
      "source": [
        "Создадим класс, который будет имплементировать модель SVD++"
      ],
      "metadata": {
        "id": "msjxQyxJHwlR"
      }
    },
    {
      "cell_type": "code",
      "source": [
        "import matplotlib.pyplot as plt"
      ],
      "metadata": {
        "id": "i8mmvZ2wK0Nq"
      },
      "execution_count": 78,
      "outputs": []
    },
    {
      "cell_type": "code",
      "source": [
        "class SVD_pp():\n",
        "    def __init__(self, k, users, items):\n",
        "        \"\"\"Инициализация параметров модели\"\"\"\n",
        "        self.u = np.random.rand(users, k)\n",
        "        self.v = np.random.rand(items, k)\n",
        "        self.b_users = np.random.rand(users)\n",
        "        self.b_items = np.random.rand(items)\n",
        "        self.mu = np.random.random()\n",
        "    \n",
        "    def predict(self, user_id, item_id):\n",
        "        \"\"\"Предсказание оценки пользователя user_id для объекта item_id\"\"\"\n",
        "        pred = self.mu + self.b_users[user_id] + self.b_items[item_id] + self.u[user_id].dot(self.v[item_id])\n",
        "        return pred\n",
        "\n",
        "    def draw_error_plot(self, errors):\n",
        "        \"\"\"Отрисовка графика изменения ошибки\"\"\"\n",
        "        plt.plot(errors)\n",
        "        plt.title(\"Error dynamic\")\n",
        "        plt.xlabel(\"iteration\")\n",
        "        plt.ylabel(\"error\")\n",
        "        plt.show()\n",
        "\n",
        "\n",
        "    def gradient_descent(self, interact_matrix, max_iter, lr, l2_reg):\n",
        "        \"\"\"Градиентный спуск\"\"\"\n",
        "        mse = 1\n",
        "        errors = []\n",
        "        total_ratings = (~np.isnan(interact_matrix)).sum()\n",
        "        for iter in range(max_iter + 1):\n",
        "            for i in range(interact_matrix.shape[0]):\n",
        "                for j in range(interact_matrix.shape[1]):\n",
        "                    # Если существует оценка i-го пользовальтеля на j-ый фильм \n",
        "                    if not np.isnan(interact_matrix[i][j]):\n",
        "                        err = interact_matrix[i][j] - self.mu - self.b_users[i] - self.b_items[j] - self.u[i].dot(self.v[j])\n",
        "                        mse += err * err\n",
        "                        # обновим параметры\n",
        "                        self.b_users[i] += lr * (err - l2_reg * self.b_users[i])\n",
        "                        self.b_items[j] += lr * (err - l2_reg *  self.b_items[j])\n",
        "                        self.u[i] += lr * (err * self.v[j] - l2_reg * self.u[i])\n",
        "                        self.v[j] += lr * (err * self.u[i] - l2_reg * self.v[j])\n",
        "            mse /= total_ratings\n",
        "            if iter % 100 == 0:\n",
        "                print(f\"Iteration #{iter}, MSE: {mse}\")\n",
        "            errors.append(mse)\n",
        "            mse = 0\n",
        "        \n",
        "        self.draw_error_plot(errors)\n"
      ],
      "metadata": {
        "id": "qISNCxKmeUHx"
      },
      "execution_count": 101,
      "outputs": []
    },
    {
      "cell_type": "code",
      "source": [
        "my_svd = SVD_pp(2, 5, 5)"
      ],
      "metadata": {
        "id": "AAp5s6phIQg6"
      },
      "execution_count": 110,
      "outputs": []
    },
    {
      "cell_type": "code",
      "source": [
        "my_svd.gradient_descent(interact_matrix.values, 1000, 0.01, 0)"
      ],
      "metadata": {
        "colab": {
          "base_uri": "https://localhost:8080/",
          "height": 490
        },
        "id": "H3lz8P3WIS6n",
        "outputId": "c3321087-d4a2-489e-df80-6b273e899746"
      },
      "execution_count": 111,
      "outputs": [
        {
          "output_type": "stream",
          "name": "stdout",
          "text": [
            "Iteration #0, MSE: 3.2315412004432438\n",
            "Iteration #100, MSE: 0.06687810620068586\n",
            "Iteration #200, MSE: 0.05279998877070751\n",
            "Iteration #300, MSE: 0.046395682626671535\n",
            "Iteration #400, MSE: 0.03956795507874816\n",
            "Iteration #500, MSE: 0.03280809231025287\n",
            "Iteration #600, MSE: 0.02666381559764196\n",
            "Iteration #700, MSE: 0.02147393471102281\n",
            "Iteration #800, MSE: 0.017333661337967966\n",
            "Iteration #900, MSE: 0.014163579298561043\n",
            "Iteration #1000, MSE: 0.011798768014154238\n"
          ]
        },
        {
          "output_type": "display_data",
          "data": {
            "text/plain": [
              "<Figure size 432x288 with 1 Axes>"
            ],
            "image/png": "[encoded data removed]"
          },
          "metadata": {
            "needs_background": "light"
          }
        }
      ]
    },
    {
      "cell_type": "markdown",
      "source": [
        "Предскажем оценку **Ивана** на фильм **математики**"
      ],
      "metadata": {
        "id": "W09EG__aMY6e"
      }
    },
    {
      "cell_type": "code",
      "source": [
        "my_svd.predict(user_id=3, item_id=1)"
      ],
      "metadata": {
        "colab": {
          "base_uri": "https://localhost:8080/"
        },
        "id": "WEqFYbpHKEI8",
        "outputId": "094ac5a2-6473-4cd9-ef8d-b346f024531c"
      },
      "execution_count": 112,
      "outputs": [
        {
          "output_type": "execute_result",
          "data": {
            "text/plain": [
              "4.3781496297893705"
            ]
          },
          "metadata": {},
          "execution_count": 112
        }
      ]
    }
  ]
}